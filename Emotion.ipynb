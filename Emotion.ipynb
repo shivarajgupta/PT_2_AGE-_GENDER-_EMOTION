{
  "nbformat": 4,
  "nbformat_minor": 0,
  "metadata": {
    "colab": {
      "provenance": []
    },
    "kernelspec": {
      "name": "python3",
      "display_name": "Python 3"
    },
    "language_info": {
      "name": "python"
    }
  },
  "cells": [
    {
      "cell_type": "code",
      "source": [
        "from google.colab import drive\n",
        "drive.mount('/content/drive')"
      ],
      "metadata": {
        "colab": {
          "base_uri": "https://localhost:8080/"
        },
        "id": "lz_CbaIlPQhP",
        "outputId": "4fb5e5b6-1ec5-449f-9e2c-a1af9e5afe14"
      },
      "execution_count": null,
      "outputs": [
        {
          "output_type": "stream",
          "name": "stdout",
          "text": [
            "Drive already mounted at /content/drive; to attempt to forcibly remount, call drive.mount(\"/content/drive\", force_remount=True).\n"
          ]
        }
      ]
    },
    {
      "cell_type": "code",
      "source": [
        "fldr=\"/content/drive/MyDrive/CK+48\"\n",
        "fldr"
      ],
      "metadata": {
        "colab": {
          "base_uri": "https://localhost:8080/",
          "height": 35
        },
        "id": "SebPLNjyPQja",
        "outputId": "42403075-ae44-4d42-bd00-470819665172"
      },
      "execution_count": null,
      "outputs": [
        {
          "output_type": "execute_result",
          "data": {
            "text/plain": [
              "'/content/drive/MyDrive/CK+48'"
            ],
            "application/vnd.google.colaboratory.intrinsic+json": {
              "type": "string"
            }
          },
          "metadata": {},
          "execution_count": 2
        }
      ]
    },
    {
      "cell_type": "code",
      "source": [
        "import os\n",
        "files=os.listdir(fldr)\n",
        "print(files)"
      ],
      "metadata": {
        "colab": {
          "base_uri": "https://localhost:8080/"
        },
        "id": "sYub5eEzPQlj",
        "outputId": "ba047268-916e-4401-d5d2-4d693fda81a9"
      },
      "execution_count": null,
      "outputs": [
        {
          "output_type": "stream",
          "name": "stdout",
          "text": [
            "['sadness', 'anger', 'surprise', 'fear', 'disgust', 'contempt', 'happy']\n"
          ]
        }
      ]
    },
    {
      "cell_type": "code",
      "source": [
        "\n",
        "Exp=['fear', 'contempt', 'happy', 'anger', 'surprise', 'disgust', 'sadness']"
      ],
      "metadata": {
        "id": "yGbbWmv1PQns"
      },
      "execution_count": null,
      "outputs": []
    },
    {
      "cell_type": "code",
      "source": [
        "\n",
        "import cv2\n",
        "from google.colab.patches import cv2_imshow\n",
        "i=0\n",
        "last=[]\n",
        "images=[]\n",
        "labels=[]\n",
        "for fle in files:\n",
        "  idx=Exp.index(fle)\n",
        "  label=idx\n",
        "  \n",
        "  total=fldr+'/'+fle\n",
        "  files_exp= os.listdir(total)\n",
        "\n",
        "  for fle_2 in files_exp:\n",
        "    file_main=total+'/'+fle_2\n",
        "    print(file_main+\"   \"+str(label))\n",
        "    image= cv2.imread(file_main)\n",
        "\n",
        "    image = cv2.cvtColor(image, cv2.COLOR_BGR2RGB)\n",
        "    image= cv2.resize(image,(48,48))\n",
        "    images.append(image)\n",
        "    labels.append(label)\n",
        "    i+=1\n",
        "  last.append(i)"
      ],
      "metadata": {
        "colab": {
          "base_uri": "https://localhost:8080/"
        },
        "id": "EGEXplx5PQpj",
        "outputId": "babe3e1b-a601-4e1e-8162-9dd5f3217ea1"
      },
      "execution_count": null,
      "outputs": [
        {
          "output_type": "stream",
          "name": "stdout",
          "text": [
            "/content/drive/MyDrive/CK+48/sadness/S026_002_00000014.png   6\n",
            "/content/drive/MyDrive/CK+48/sadness/S011_002_00000020.png   6\n",
            "/content/drive/MyDrive/CK+48/sadness/S011_002_00000021.png   6\n",
            "/content/drive/MyDrive/CK+48/sadness/S014_002_00000015.png   6\n",
            "/content/drive/MyDrive/CK+48/sadness/S014_002_00000016.png   6\n",
            "/content/drive/MyDrive/CK+48/sadness/S011_002_00000022.png   6\n",
            "/content/drive/MyDrive/CK+48/sadness/S014_002_00000014.png   6\n",
            "/content/drive/MyDrive/CK+48/sadness/S026_002_00000016.png   6\n",
            "/content/drive/MyDrive/CK+48/sadness/S080_005_00000011.png   6\n",
            "/content/drive/MyDrive/CK+48/sadness/S071_002_00000019.png   6\n",
            "/content/drive/MyDrive/CK+48/sadness/S042_002_00000016.png   6\n",
            "/content/drive/MyDrive/CK+48/sadness/S042_002_00000014.png   6\n",
            "/content/drive/MyDrive/CK+48/sadness/S046_001_00000024.png   6\n",
            "/content/drive/MyDrive/CK+48/sadness/S026_002_00000015.png   6\n",
            "/content/drive/MyDrive/CK+48/sadness/S064_004_00000013.png   6\n",
            "/content/drive/MyDrive/CK+48/sadness/S066_004_00000009.png   6\n",
            "/content/drive/MyDrive/CK+48/sadness/S064_004_00000014.png   6\n",
            "/content/drive/MyDrive/CK+48/sadness/S071_002_00000018.png   6\n",
            "/content/drive/MyDrive/CK+48/sadness/S071_002_00000020.png   6\n",
            "/content/drive/MyDrive/CK+48/sadness/S066_004_00000010.png   6\n",
            "/content/drive/MyDrive/CK+48/sadness/S042_002_00000015.png   6\n",
            "/content/drive/MyDrive/CK+48/sadness/S046_001_00000023.png   6\n",
            "/content/drive/MyDrive/CK+48/sadness/S066_004_00000008.png   6\n",
            "/content/drive/MyDrive/CK+48/sadness/S046_001_00000025.png   6\n",
            "/content/drive/MyDrive/CK+48/sadness/S064_004_00000012.png   6\n",
            "/content/drive/MyDrive/CK+48/sadness/S095_010_00000013.png   6\n",
            "/content/drive/MyDrive/CK+48/sadness/S095_010_00000014.png   6\n",
            "/content/drive/MyDrive/CK+48/sadness/S093_001_00000019.png   6\n",
            "/content/drive/MyDrive/CK+48/sadness/S108_005_00000022.png   6\n",
            "/content/drive/MyDrive/CK+48/sadness/S081_002_00000022.png   6\n",
            "/content/drive/MyDrive/CK+48/sadness/S106_002_00000016.png   6\n",
            "/content/drive/MyDrive/CK+48/sadness/S108_005_00000021.png   6\n",
            "/content/drive/MyDrive/CK+48/sadness/S113_003_00000013.png   6\n",
            "/content/drive/MyDrive/CK+48/sadness/S095_010_00000012.png   6\n",
            "/content/drive/MyDrive/CK+48/sadness/S108_005_00000020.png   6\n",
            "/content/drive/MyDrive/CK+48/sadness/S093_001_00000018.png   6\n",
            "/content/drive/MyDrive/CK+48/sadness/S093_001_00000020.png   6\n",
            "/content/drive/MyDrive/CK+48/sadness/S081_002_00000024.png   6\n",
            "/content/drive/MyDrive/CK+48/sadness/S081_002_00000023.png   6\n",
            "/content/drive/MyDrive/CK+48/sadness/S080_005_00000012.png   6\n",
            "/content/drive/MyDrive/CK+48/sadness/S106_002_00000014.png   6\n",
            "/content/drive/MyDrive/CK+48/sadness/S106_002_00000015.png   6\n",
            "/content/drive/MyDrive/CK+48/sadness/S080_005_00000013.png   6\n",
            "/content/drive/MyDrive/CK+48/sadness/S113_003_00000015.png   6\n",
            "/content/drive/MyDrive/CK+48/sadness/S132_002_00000017.png   6\n",
            "/content/drive/MyDrive/CK+48/sadness/S125_001_00000013.png   6\n",
            "/content/drive/MyDrive/CK+48/sadness/S125_001_00000014.png   6\n",
            "/content/drive/MyDrive/CK+48/sadness/S115_004_00000015.png   6\n",
            "/content/drive/MyDrive/CK+48/sadness/S115_004_00000017.png   6\n",
            "/content/drive/MyDrive/CK+48/sadness/S132_002_00000016.png   6\n",
            "/content/drive/MyDrive/CK+48/sadness/S130_009_00000018.png   6\n",
            "/content/drive/MyDrive/CK+48/sadness/S131_003_00000022.png   6\n",
            "/content/drive/MyDrive/CK+48/sadness/S131_003_00000023.png   6\n",
            "/content/drive/MyDrive/CK+48/sadness/S113_003_00000014.png   6\n",
            "/content/drive/MyDrive/CK+48/sadness/S130_009_00000019.png   6\n",
            "/content/drive/MyDrive/CK+48/sadness/S115_004_00000016.png   6\n",
            "/content/drive/MyDrive/CK+48/sadness/S130_009_00000017.png   6\n",
            "/content/drive/MyDrive/CK+48/sadness/S131_003_00000024.png   6\n",
            "/content/drive/MyDrive/CK+48/sadness/S125_001_00000012.png   6\n",
            "/content/drive/MyDrive/CK+48/sadness/S138_007_00000011.png   6\n",
            "/content/drive/MyDrive/CK+48/sadness/S138_007_00000009.png   6\n",
            "/content/drive/MyDrive/CK+48/sadness/S503_006_00000019.png   6\n",
            "/content/drive/MyDrive/CK+48/sadness/S501_006_00000041.png   6\n",
            "/content/drive/MyDrive/CK+48/sadness/S136_003_00000014.png   6\n",
            "/content/drive/MyDrive/CK+48/sadness/S504_006_00000016.png   6\n",
            "/content/drive/MyDrive/CK+48/sadness/S137_005_00000025.png   6\n",
            "/content/drive/MyDrive/CK+48/sadness/S503_006_00000020.png   6\n",
            "/content/drive/MyDrive/CK+48/sadness/S503_006_00000018.png   6\n",
            "/content/drive/MyDrive/CK+48/sadness/S501_006_00000039.png   6\n",
            "/content/drive/MyDrive/CK+48/sadness/S136_003_00000013.png   6\n",
            "/content/drive/MyDrive/CK+48/sadness/S137_005_00000026.png   6\n",
            "/content/drive/MyDrive/CK+48/sadness/S136_003_00000012.png   6\n",
            "/content/drive/MyDrive/CK+48/sadness/S138_007_00000010.png   6\n",
            "/content/drive/MyDrive/CK+48/sadness/S504_006_00000017.png   6\n",
            "/content/drive/MyDrive/CK+48/sadness/S132_002_00000018.png   6\n",
            "/content/drive/MyDrive/CK+48/sadness/S137_005_00000027.png   6\n",
            "/content/drive/MyDrive/CK+48/sadness/S501_006_00000040.png   6\n",
            "/content/drive/MyDrive/CK+48/sadness/S505_006_00000019.png   6\n",
            "/content/drive/MyDrive/CK+48/sadness/S505_006_00000017.png   6\n",
            "/content/drive/MyDrive/CK+48/sadness/S505_006_00000018.png   6\n",
            "/content/drive/MyDrive/CK+48/sadness/S504_006_00000018.png   6\n",
            "/content/drive/MyDrive/CK+48/sadness/S506_006_00000041.png   6\n",
            "/content/drive/MyDrive/CK+48/sadness/S506_006_00000042.png   6\n",
            "/content/drive/MyDrive/CK+48/sadness/S506_006_00000040.png   6\n",
            "/content/drive/MyDrive/CK+48/anger/S010_004_00000018.png   3\n",
            "/content/drive/MyDrive/CK+48/anger/S014_003_00000030.png   3\n",
            "/content/drive/MyDrive/CK+48/anger/S010_004_00000017.png   3\n",
            "/content/drive/MyDrive/CK+48/anger/S011_004_00000021.png   3\n",
            "/content/drive/MyDrive/CK+48/anger/S022_005_00000032.png   3\n",
            "/content/drive/MyDrive/CK+48/anger/S011_004_00000020.png   3\n",
            "/content/drive/MyDrive/CK+48/anger/S010_004_00000019.png   3\n",
            "/content/drive/MyDrive/CK+48/anger/S014_003_00000029.png   3\n",
            "/content/drive/MyDrive/CK+48/anger/S014_003_00000028.png   3\n",
            "/content/drive/MyDrive/CK+48/anger/S026_003_00000013.png   3\n",
            "/content/drive/MyDrive/CK+48/anger/S022_005_00000030.png   3\n",
            "/content/drive/MyDrive/CK+48/anger/S022_005_00000031.png   3\n",
            "/content/drive/MyDrive/CK+48/anger/S011_004_00000019.png   3\n",
            "/content/drive/MyDrive/CK+48/anger/S026_003_00000014.png   3\n",
            "/content/drive/MyDrive/CK+48/anger/S028_001_00000023.png   3\n",
            "/content/drive/MyDrive/CK+48/anger/S029_001_00000018.png   3\n",
            "/content/drive/MyDrive/CK+48/anger/S028_001_00000024.png   3\n",
            "/content/drive/MyDrive/CK+48/anger/S029_001_00000019.png   3\n",
            "/content/drive/MyDrive/CK+48/anger/S026_003_00000015.png   3\n",
            "/content/drive/MyDrive/CK+48/anger/S028_001_00000022.png   3\n",
            "/content/drive/MyDrive/CK+48/anger/S032_003_00000016.png   3\n",
            "/content/drive/MyDrive/CK+48/anger/S029_001_00000017.png   3\n",
            "/content/drive/MyDrive/CK+48/anger/S032_003_00000015.png   3\n",
            "/content/drive/MyDrive/CK+48/anger/S034_003_00000025.png   3\n",
            "/content/drive/MyDrive/CK+48/anger/S032_003_00000017.png   3\n",
            "/content/drive/MyDrive/CK+48/anger/S034_003_00000026.png   3\n",
            "/content/drive/MyDrive/CK+48/anger/S034_003_00000027.png   3\n",
            "/content/drive/MyDrive/CK+48/anger/S037_003_00000020.png   3\n",
            "/content/drive/MyDrive/CK+48/anger/S037_003_00000021.png   3\n",
            "/content/drive/MyDrive/CK+48/anger/S042_004_00000019.png   3\n",
            "/content/drive/MyDrive/CK+48/anger/S042_004_00000018.png   3\n",
            "/content/drive/MyDrive/CK+48/anger/S037_003_00000022.png   3\n",
            "/content/drive/MyDrive/CK+48/anger/S045_005_00000028.png   3\n",
            "/content/drive/MyDrive/CK+48/anger/S045_005_00000030.png   3\n",
            "/content/drive/MyDrive/CK+48/anger/S050_004_00000019.png   3\n",
            "/content/drive/MyDrive/CK+48/anger/S045_005_00000029.png   3\n",
            "/content/drive/MyDrive/CK+48/anger/S042_004_00000020.png   3\n",
            "/content/drive/MyDrive/CK+48/anger/S055_004_00000027.png   3\n",
            "/content/drive/MyDrive/CK+48/anger/S050_004_00000020.png   3\n",
            "/content/drive/MyDrive/CK+48/anger/S050_004_00000021.png   3\n",
            "/content/drive/MyDrive/CK+48/anger/S055_004_00000026.png   3\n",
            "/content/drive/MyDrive/CK+48/anger/S058_005_00000009.png   3\n",
            "/content/drive/MyDrive/CK+48/anger/S055_004_00000028.png   3\n",
            "/content/drive/MyDrive/CK+48/anger/S058_005_00000008.png   3\n",
            "/content/drive/MyDrive/CK+48/anger/S066_005_00000009.png   3\n",
            "/content/drive/MyDrive/CK+48/anger/S058_005_00000010.png   3\n",
            "/content/drive/MyDrive/CK+48/anger/S067_004_00000021.png   3\n",
            "/content/drive/MyDrive/CK+48/anger/S066_005_00000011.png   3\n",
            "/content/drive/MyDrive/CK+48/anger/S066_005_00000010.png   3\n",
            "/content/drive/MyDrive/CK+48/anger/S067_004_00000022.png   3\n",
            "/content/drive/MyDrive/CK+48/anger/S067_004_00000023.png   3\n",
            "/content/drive/MyDrive/CK+48/anger/S071_004_00000028.png   3\n",
            "/content/drive/MyDrive/CK+48/anger/S071_004_00000026.png   3\n",
            "/content/drive/MyDrive/CK+48/anger/S071_004_00000027.png   3\n",
            "/content/drive/MyDrive/CK+48/anger/S072_005_00000019.png   3\n",
            "/content/drive/MyDrive/CK+48/anger/S072_005_00000018.png   3\n",
            "/content/drive/MyDrive/CK+48/anger/S075_008_00000010.png   3\n",
            "/content/drive/MyDrive/CK+48/anger/S072_005_00000017.png   3\n",
            "/content/drive/MyDrive/CK+48/anger/S082_005_00000016.png   3\n",
            "/content/drive/MyDrive/CK+48/anger/S087_007_00000014.png   3\n",
            "/content/drive/MyDrive/CK+48/anger/S087_007_00000016.png   3\n",
            "/content/drive/MyDrive/CK+48/anger/S075_008_00000011.png   3\n",
            "/content/drive/MyDrive/CK+48/anger/S082_005_00000017.png   3\n",
            "/content/drive/MyDrive/CK+48/anger/S090_007_00000012.png   3\n",
            "/content/drive/MyDrive/CK+48/anger/S089_003_00000034.png   3\n",
            "/content/drive/MyDrive/CK+48/anger/S075_008_00000012.png   3\n",
            "/content/drive/MyDrive/CK+48/anger/S087_007_00000015.png   3\n",
            "/content/drive/MyDrive/CK+48/anger/S089_003_00000036.png   3\n",
            "/content/drive/MyDrive/CK+48/anger/S082_005_00000015.png   3\n",
            "/content/drive/MyDrive/CK+48/anger/S089_003_00000035.png   3\n",
            "/content/drive/MyDrive/CK+48/anger/S090_007_00000013.png   3\n",
            "/content/drive/MyDrive/CK+48/anger/S100_005_00000021.png   3\n",
            "/content/drive/MyDrive/CK+48/anger/S112_005_00000016.png   3\n",
            "/content/drive/MyDrive/CK+48/anger/S109_003_00000015.png   3\n",
            "/content/drive/MyDrive/CK+48/anger/S111_006_00000009.png   3\n",
            "/content/drive/MyDrive/CK+48/anger/S092_003_00000012.png   3\n",
            "/content/drive/MyDrive/CK+48/anger/S112_005_00000017.png   3\n",
            "/content/drive/MyDrive/CK+48/anger/S112_005_00000015.png   3\n",
            "/content/drive/MyDrive/CK+48/anger/S111_006_00000010.png   3\n",
            "/content/drive/MyDrive/CK+48/anger/S109_003_00000016.png   3\n",
            "/content/drive/MyDrive/CK+48/anger/S111_006_00000008.png   3\n",
            "/content/drive/MyDrive/CK+48/anger/S100_005_00000023.png   3\n",
            "/content/drive/MyDrive/CK+48/anger/S092_003_00000014.png   3\n",
            "/content/drive/MyDrive/CK+48/anger/S100_005_00000022.png   3\n",
            "/content/drive/MyDrive/CK+48/anger/S092_003_00000013.png   3\n",
            "/content/drive/MyDrive/CK+48/anger/S109_003_00000017.png   3\n",
            "/content/drive/MyDrive/CK+48/anger/S090_007_00000014.png   3\n",
            "/content/drive/MyDrive/CK+48/anger/S117_006_00000008.png   3\n",
            "/content/drive/MyDrive/CK+48/anger/S129_006_00000008.png   3\n",
            "/content/drive/MyDrive/CK+48/anger/S117_006_00000010.png   3\n",
            "/content/drive/MyDrive/CK+48/anger/S126_008_00000028.png   3\n",
            "/content/drive/MyDrive/CK+48/anger/S113_008_00000021.png   3\n",
            "/content/drive/MyDrive/CK+48/anger/S126_008_00000027.png   3\n",
            "/content/drive/MyDrive/CK+48/anger/S127_010_00000018.png   3\n",
            "/content/drive/MyDrive/CK+48/anger/S113_008_00000022.png   3\n",
            "/content/drive/MyDrive/CK+48/anger/S127_010_00000017.png   3\n",
            "/content/drive/MyDrive/CK+48/anger/S119_008_00000016.png   3\n",
            "/content/drive/MyDrive/CK+48/anger/S117_006_00000009.png   3\n",
            "/content/drive/MyDrive/CK+48/anger/S127_010_00000016.png   3\n",
            "/content/drive/MyDrive/CK+48/anger/S119_008_00000017.png   3\n",
            "/content/drive/MyDrive/CK+48/anger/S119_008_00000018.png   3\n",
            "/content/drive/MyDrive/CK+48/anger/S126_008_00000029.png   3\n",
            "/content/drive/MyDrive/CK+48/anger/S129_006_00000009.png   3\n",
            "/content/drive/MyDrive/CK+48/anger/S113_008_00000023.png   3\n",
            "/content/drive/MyDrive/CK+48/anger/S501_001_00000065.png   3\n",
            "/content/drive/MyDrive/CK+48/anger/S130_007_00000018.png   3\n",
            "/content/drive/MyDrive/CK+48/anger/S501_001_00000067.png   3\n",
            "/content/drive/MyDrive/CK+48/anger/S133_003_00000047.png   3\n",
            "/content/drive/MyDrive/CK+48/anger/S133_003_00000046.png   3\n",
            "/content/drive/MyDrive/CK+48/anger/S134_003_00000010.png   3\n",
            "/content/drive/MyDrive/CK+48/anger/S133_003_00000045.png   3\n",
            "/content/drive/MyDrive/CK+48/anger/S129_006_00000010.png   3\n",
            "/content/drive/MyDrive/CK+48/anger/S130_007_00000019.png   3\n",
            "/content/drive/MyDrive/CK+48/anger/S501_001_00000066.png   3\n",
            "/content/drive/MyDrive/CK+48/anger/S134_003_00000009.png   3\n",
            "/content/drive/MyDrive/CK+48/anger/S502_001_00000014.png   3\n",
            "/content/drive/MyDrive/CK+48/anger/S134_003_00000011.png   3\n",
            "/content/drive/MyDrive/CK+48/anger/S502_001_00000015.png   3\n",
            "/content/drive/MyDrive/CK+48/anger/S136_005_00000008.png   3\n",
            "/content/drive/MyDrive/CK+48/anger/S130_007_00000020.png   3\n",
            "/content/drive/MyDrive/CK+48/anger/S136_005_00000009.png   3\n",
            "/content/drive/MyDrive/CK+48/anger/S136_005_00000010.png   3\n",
            "/content/drive/MyDrive/CK+48/anger/S504_001_00000020.png   3\n",
            "/content/drive/MyDrive/CK+48/anger/S999_001_00000016.png   3\n",
            "/content/drive/MyDrive/CK+48/anger/S999_001_00000017.png   3\n",
            "/content/drive/MyDrive/CK+48/anger/S503_001_00000071.png   3\n",
            "/content/drive/MyDrive/CK+48/anger/S506_001_00000040.png   3\n",
            "/content/drive/MyDrive/CK+48/anger/S506_001_00000038.png   3\n",
            "/content/drive/MyDrive/CK+48/anger/S504_001_00000022.png   3\n",
            "/content/drive/MyDrive/CK+48/anger/S503_001_00000069.png   3\n",
            "/content/drive/MyDrive/CK+48/anger/S502_001_00000016.png   3\n",
            "/content/drive/MyDrive/CK+48/anger/S999_001_00000018.png   3\n",
            "/content/drive/MyDrive/CK+48/anger/S504_001_00000021.png   3\n",
            "/content/drive/MyDrive/CK+48/anger/S503_001_00000070.png   3\n",
            "/content/drive/MyDrive/CK+48/anger/S506_001_00000039.png   3\n",
            "/content/drive/MyDrive/CK+48/surprise/S011_001_00000016.png   4\n",
            "/content/drive/MyDrive/CK+48/surprise/S014_001_00000029.png   4\n",
            "/content/drive/MyDrive/CK+48/surprise/S022_001_00000028.png   4\n",
            "/content/drive/MyDrive/CK+48/surprise/S010_002_00000013.png   4\n",
            "/content/drive/MyDrive/CK+48/surprise/S014_001_00000028.png   4\n",
            "/content/drive/MyDrive/CK+48/surprise/S010_002_00000012.png   4\n",
            "/content/drive/MyDrive/CK+48/surprise/S014_001_00000027.png   4\n",
            "/content/drive/MyDrive/CK+48/surprise/S011_001_00000015.png   4\n",
            "/content/drive/MyDrive/CK+48/surprise/S011_001_00000014.png   4\n",
            "/content/drive/MyDrive/CK+48/surprise/S010_002_00000014.png   4\n",
            "/content/drive/MyDrive/CK+48/surprise/S032_001_00000021.png   4\n",
            "/content/drive/MyDrive/CK+48/surprise/S037_001_00000019.png   4\n",
            "/content/drive/MyDrive/CK+48/surprise/S037_001_00000018.png   4\n",
            "/content/drive/MyDrive/CK+48/surprise/S035_001_00000013.png   4\n",
            "/content/drive/MyDrive/CK+48/surprise/S022_001_00000030.png   4\n",
            "/content/drive/MyDrive/CK+48/surprise/S026_001_00000015.png   4\n",
            "/content/drive/MyDrive/CK+48/surprise/S034_001_00000029.png   4\n",
            "/content/drive/MyDrive/CK+48/surprise/S034_001_00000028.png   4\n",
            "/content/drive/MyDrive/CK+48/surprise/S035_001_00000015.png   4\n",
            "/content/drive/MyDrive/CK+48/surprise/S032_001_00000022.png   4\n",
            "/content/drive/MyDrive/CK+48/surprise/S032_001_00000020.png   4\n",
            "/content/drive/MyDrive/CK+48/surprise/S037_001_00000020.png   4\n",
            "/content/drive/MyDrive/CK+48/surprise/S022_001_00000029.png   4\n",
            "/content/drive/MyDrive/CK+48/surprise/S026_001_00000014.png   4\n",
            "/content/drive/MyDrive/CK+48/surprise/S034_001_00000027.png   4\n",
            "/content/drive/MyDrive/CK+48/surprise/S026_001_00000013.png   4\n",
            "/content/drive/MyDrive/CK+48/surprise/S035_001_00000014.png   4\n",
            "/content/drive/MyDrive/CK+48/surprise/S044_001_00000022.png   4\n",
            "/content/drive/MyDrive/CK+48/surprise/S042_001_00000017.png   4\n",
            "/content/drive/MyDrive/CK+48/surprise/S050_002_00000016.png   4\n",
            "/content/drive/MyDrive/CK+48/surprise/S044_001_00000024.png   4\n",
            "/content/drive/MyDrive/CK+48/surprise/S050_002_00000017.png   4\n",
            "/content/drive/MyDrive/CK+48/surprise/S042_001_00000018.png   4\n",
            "/content/drive/MyDrive/CK+48/surprise/S042_001_00000019.png   4\n",
            "/content/drive/MyDrive/CK+48/surprise/S046_002_00000006.png   4\n",
            "/content/drive/MyDrive/CK+48/surprise/S044_001_00000023.png   4\n",
            "/content/drive/MyDrive/CK+48/surprise/S051_002_00000018.png   4\n",
            "/content/drive/MyDrive/CK+48/surprise/S046_002_00000004.png   4\n",
            "/content/drive/MyDrive/CK+48/surprise/S052_001_00000013.png   4\n",
            "/content/drive/MyDrive/CK+48/surprise/S046_002_00000005.png   4\n",
            "/content/drive/MyDrive/CK+48/surprise/S051_002_00000017.png   4\n",
            "/content/drive/MyDrive/CK+48/surprise/S052_001_00000014.png   4\n",
            "/content/drive/MyDrive/CK+48/surprise/S051_002_00000019.png   4\n",
            "/content/drive/MyDrive/CK+48/surprise/S050_002_00000018.png   4\n",
            "/content/drive/MyDrive/CK+48/surprise/S054_003_00000006.png   4\n",
            "/content/drive/MyDrive/CK+48/surprise/S057_001_00000017.png   4\n",
            "/content/drive/MyDrive/CK+48/surprise/S055_001_00000010.png   4\n",
            "/content/drive/MyDrive/CK+48/surprise/S053_001_00000022.png   4\n",
            "/content/drive/MyDrive/CK+48/surprise/S053_001_00000023.png   4\n",
            "/content/drive/MyDrive/CK+48/surprise/S055_001_00000012.png   4\n",
            "/content/drive/MyDrive/CK+48/surprise/S054_003_00000005.png   4\n",
            "/content/drive/MyDrive/CK+48/surprise/S053_001_00000021.png   4\n",
            "/content/drive/MyDrive/CK+48/surprise/S052_001_00000015.png   4\n",
            "/content/drive/MyDrive/CK+48/surprise/S054_003_00000007.png   4\n",
            "/content/drive/MyDrive/CK+48/surprise/S056_003_00000008.png   4\n",
            "/content/drive/MyDrive/CK+48/surprise/S056_003_00000009.png   4\n",
            "/content/drive/MyDrive/CK+48/surprise/S058_001_00000018.png   4\n",
            "/content/drive/MyDrive/CK+48/surprise/S057_001_00000018.png   4\n",
            "/content/drive/MyDrive/CK+48/surprise/S058_001_00000019.png   4\n",
            "/content/drive/MyDrive/CK+48/surprise/S056_003_00000010.png   4\n",
            "/content/drive/MyDrive/CK+48/surprise/S055_001_00000011.png   4\n",
            "/content/drive/MyDrive/CK+48/surprise/S057_001_00000019.png   4\n",
            "/content/drive/MyDrive/CK+48/surprise/S059_001_00000018.png   4\n",
            "/content/drive/MyDrive/CK+48/surprise/S061_001_00000012.png   4\n",
            "/content/drive/MyDrive/CK+48/surprise/S062_002_00000016.png   4\n",
            "/content/drive/MyDrive/CK+48/surprise/S063_001_00000011.png   4\n",
            "/content/drive/MyDrive/CK+48/surprise/S058_001_00000020.png   4\n",
            "/content/drive/MyDrive/CK+48/surprise/S059_001_00000016.png   4\n",
            "/content/drive/MyDrive/CK+48/surprise/S063_001_00000012.png   4\n",
            "/content/drive/MyDrive/CK+48/surprise/S060_003_00000016.png   4\n",
            "/content/drive/MyDrive/CK+48/surprise/S061_001_00000011.png   4\n",
            "/content/drive/MyDrive/CK+48/surprise/S060_003_00000018.png   4\n",
            "/content/drive/MyDrive/CK+48/surprise/S061_001_00000010.png   4\n",
            "/content/drive/MyDrive/CK+48/surprise/S059_001_00000017.png   4\n",
            "/content/drive/MyDrive/CK+48/surprise/S062_002_00000014.png   4\n",
            "/content/drive/MyDrive/CK+48/surprise/S060_003_00000017.png   4\n",
            "/content/drive/MyDrive/CK+48/surprise/S062_002_00000015.png   4\n",
            "/content/drive/MyDrive/CK+48/surprise/S064_001_00000011.png   4\n",
            "/content/drive/MyDrive/CK+48/surprise/S065_003_00000020.png   4\n",
            "/content/drive/MyDrive/CK+48/surprise/S066_002_00000021.png   4\n",
            "/content/drive/MyDrive/CK+48/surprise/S067_002_00000013.png   4\n",
            "/content/drive/MyDrive/CK+48/surprise/S064_001_00000010.png   4\n",
            "/content/drive/MyDrive/CK+48/surprise/S065_003_00000022.png   4\n",
            "/content/drive/MyDrive/CK+48/surprise/S067_002_00000012.png   4\n",
            "/content/drive/MyDrive/CK+48/surprise/S065_003_00000021.png   4\n",
            "/content/drive/MyDrive/CK+48/surprise/S064_001_00000012.png   4\n",
            "/content/drive/MyDrive/CK+48/surprise/S068_003_00000014.png   4\n",
            "/content/drive/MyDrive/CK+48/surprise/S069_002_00000012.png   4\n",
            "/content/drive/MyDrive/CK+48/surprise/S068_003_00000013.png   4\n",
            "/content/drive/MyDrive/CK+48/surprise/S066_002_00000022.png   4\n",
            "/content/drive/MyDrive/CK+48/surprise/S068_003_00000012.png   4\n",
            "/content/drive/MyDrive/CK+48/surprise/S063_001_00000013.png   4\n",
            "/content/drive/MyDrive/CK+48/surprise/S066_002_00000020.png   4\n",
            "/content/drive/MyDrive/CK+48/surprise/S067_002_00000014.png   4\n",
            "/content/drive/MyDrive/CK+48/surprise/S071_001_00000012.png   4\n",
            "/content/drive/MyDrive/CK+48/surprise/S070_002_00000015.png   4\n",
            "/content/drive/MyDrive/CK+48/surprise/S074_002_00000016.png   4\n",
            "/content/drive/MyDrive/CK+48/surprise/S073_001_00000011.png   4\n",
            "/content/drive/MyDrive/CK+48/surprise/S075_002_00000012.png   4\n",
            "/content/drive/MyDrive/CK+48/surprise/S073_001_00000013.png   4\n",
            "/content/drive/MyDrive/CK+48/surprise/S069_002_00000013.png   4\n",
            "/content/drive/MyDrive/CK+48/surprise/S076_001_00000016.png   4\n",
            "/content/drive/MyDrive/CK+48/surprise/S069_002_00000014.png   4\n",
            "/content/drive/MyDrive/CK+48/surprise/S071_001_00000011.png   4\n",
            "/content/drive/MyDrive/CK+48/surprise/S074_002_00000014.png   4\n",
            "/content/drive/MyDrive/CK+48/surprise/S070_002_00000014.png   4\n",
            "/content/drive/MyDrive/CK+48/surprise/S073_001_00000012.png   4\n",
            "/content/drive/MyDrive/CK+48/surprise/S071_001_00000013.png   4\n",
            "/content/drive/MyDrive/CK+48/surprise/S070_002_00000016.png   4\n",
            "/content/drive/MyDrive/CK+48/surprise/S074_002_00000015.png   4\n",
            "/content/drive/MyDrive/CK+48/surprise/S075_002_00000013.png   4\n",
            "/content/drive/MyDrive/CK+48/surprise/S076_001_00000015.png   4\n",
            "/content/drive/MyDrive/CK+48/surprise/S075_002_00000014.png   4\n",
            "/content/drive/MyDrive/CK+48/surprise/S081_001_00000019.png   4\n",
            "/content/drive/MyDrive/CK+48/surprise/S076_001_00000017.png   4\n",
            "/content/drive/MyDrive/CK+48/surprise/S080_001_00000017.png   4\n",
            "/content/drive/MyDrive/CK+48/surprise/S078_001_00000031.png   4\n",
            "/content/drive/MyDrive/CK+48/surprise/S077_001_00000028.png   4\n",
            "/content/drive/MyDrive/CK+48/surprise/S079_001_00000010.png   4\n",
            "/content/drive/MyDrive/CK+48/surprise/S080_001_00000016.png   4\n",
            "/content/drive/MyDrive/CK+48/surprise/S079_001_00000011.png   4\n",
            "/content/drive/MyDrive/CK+48/surprise/S078_001_00000033.png   4\n",
            "/content/drive/MyDrive/CK+48/surprise/S080_001_00000018.png   4\n",
            "/content/drive/MyDrive/CK+48/surprise/S077_001_00000026.png   4\n",
            "/content/drive/MyDrive/CK+48/surprise/S081_001_00000018.png   4\n",
            "/content/drive/MyDrive/CK+48/surprise/S077_001_00000027.png   4\n",
            "/content/drive/MyDrive/CK+48/surprise/S079_001_00000012.png   4\n",
            "/content/drive/MyDrive/CK+48/surprise/S081_001_00000017.png   4\n",
            "/content/drive/MyDrive/CK+48/surprise/S078_001_00000032.png   4\n",
            "/content/drive/MyDrive/CK+48/surprise/S086_001_00000018.png   4\n",
            "/content/drive/MyDrive/CK+48/surprise/S087_001_00000011.png   4\n",
            "/content/drive/MyDrive/CK+48/surprise/S084_001_00000010.png   4\n",
            "/content/drive/MyDrive/CK+48/surprise/S085_003_00000012.png   4\n",
            "/content/drive/MyDrive/CK+48/surprise/S085_003_00000011.png   4\n",
            "/content/drive/MyDrive/CK+48/surprise/S088_001_00000016.png   4\n",
            "/content/drive/MyDrive/CK+48/surprise/S084_001_00000009.png   4\n",
            "/content/drive/MyDrive/CK+48/surprise/S087_001_00000009.png   4\n",
            "/content/drive/MyDrive/CK+48/surprise/S082_001_00000013.png   4\n",
            "/content/drive/MyDrive/CK+48/surprise/S088_001_00000015.png   4\n",
            "/content/drive/MyDrive/CK+48/surprise/S086_001_00000017.png   4\n",
            "/content/drive/MyDrive/CK+48/surprise/S086_001_00000019.png   4\n",
            "/content/drive/MyDrive/CK+48/surprise/S082_001_00000014.png   4\n",
            "/content/drive/MyDrive/CK+48/surprise/S085_003_00000013.png   4\n",
            "/content/drive/MyDrive/CK+48/surprise/S084_001_00000008.png   4\n",
            "/content/drive/MyDrive/CK+48/surprise/S082_001_00000015.png   4\n",
            "/content/drive/MyDrive/CK+48/surprise/S087_001_00000010.png   4\n",
            "/content/drive/MyDrive/CK+48/surprise/S097_001_00000021.png   4\n",
            "/content/drive/MyDrive/CK+48/surprise/S096_001_00000005.png   4\n",
            "/content/drive/MyDrive/CK+48/surprise/S102_002_00000016.png   4\n",
            "/content/drive/MyDrive/CK+48/surprise/S102_002_00000017.png   4\n",
            "/content/drive/MyDrive/CK+48/surprise/S094_001_00000008.png   4\n",
            "/content/drive/MyDrive/CK+48/surprise/S100_002_00000013.png   4\n",
            "/content/drive/MyDrive/CK+48/surprise/S089_001_00000014.png   4\n",
            "/content/drive/MyDrive/CK+48/surprise/S100_002_00000014.png   4\n",
            "/content/drive/MyDrive/CK+48/surprise/S099_001_00000014.png   4\n",
            "/content/drive/MyDrive/CK+48/surprise/S094_001_00000009.png   4\n",
            "/content/drive/MyDrive/CK+48/surprise/S095_001_00000015.png   4\n",
            "/content/drive/MyDrive/CK+48/surprise/S092_001_00000017.png   4\n",
            "/content/drive/MyDrive/CK+48/surprise/S101_002_00000018.png   4\n",
            "/content/drive/MyDrive/CK+48/surprise/S095_001_00000014.png   4\n",
            "/content/drive/MyDrive/CK+48/surprise/S097_001_00000019.png   4\n",
            "/content/drive/MyDrive/CK+48/surprise/S090_002_00000010.png   4\n",
            "/content/drive/MyDrive/CK+48/surprise/S094_001_00000010.png   4\n",
            "/content/drive/MyDrive/CK+48/surprise/S101_002_00000019.png   4\n",
            "/content/drive/MyDrive/CK+48/surprise/S097_001_00000020.png   4\n",
            "/content/drive/MyDrive/CK+48/surprise/S096_001_00000007.png   4\n",
            "/content/drive/MyDrive/CK+48/surprise/S090_002_00000009.png   4\n",
            "/content/drive/MyDrive/CK+48/surprise/S101_002_00000017.png   4\n",
            "/content/drive/MyDrive/CK+48/surprise/S089_001_00000015.png   4\n",
            "/content/drive/MyDrive/CK+48/surprise/S099_001_00000013.png   4\n",
            "/content/drive/MyDrive/CK+48/surprise/S102_002_00000018.png   4\n",
            "/content/drive/MyDrive/CK+48/surprise/S095_001_00000016.png   4\n",
            "/content/drive/MyDrive/CK+48/surprise/S092_001_00000016.png   4\n",
            "/content/drive/MyDrive/CK+48/surprise/S089_001_00000016.png   4\n",
            "/content/drive/MyDrive/CK+48/surprise/S096_001_00000006.png   4\n",
            "/content/drive/MyDrive/CK+48/surprise/S088_001_00000017.png   4\n",
            "/content/drive/MyDrive/CK+48/surprise/S090_002_00000011.png   4\n",
            "/content/drive/MyDrive/CK+48/surprise/S100_002_00000015.png   4\n",
            "/content/drive/MyDrive/CK+48/surprise/S099_001_00000012.png   4\n",
            "/content/drive/MyDrive/CK+48/surprise/S092_001_00000015.png   4\n",
            "/content/drive/MyDrive/CK+48/surprise/S111_001_00000013.png   4\n",
            "/content/drive/MyDrive/CK+48/surprise/S110_001_00000011.png   4\n",
            "/content/drive/MyDrive/CK+48/surprise/S119_001_00000009.png   4\n",
            "/content/drive/MyDrive/CK+48/surprise/S114_001_00000018.png   4\n",
            "/content/drive/MyDrive/CK+48/surprise/S117_001_00000014.png   4\n",
            "/content/drive/MyDrive/CK+48/surprise/S125_007_00000008.png   4\n",
            "/content/drive/MyDrive/CK+48/surprise/S126_004_00000011.png   4\n",
            "/content/drive/MyDrive/CK+48/surprise/S125_007_00000009.png   4\n",
            "/content/drive/MyDrive/CK+48/surprise/S110_001_00000013.png   4\n",
            "/content/drive/MyDrive/CK+48/surprise/S122_001_00000012.png   4\n",
            "/content/drive/MyDrive/CK+48/surprise/S117_001_00000013.png   4\n",
            "/content/drive/MyDrive/CK+48/surprise/S119_001_00000011.png   4\n",
            "/content/drive/MyDrive/CK+48/surprise/S110_001_00000012.png   4\n",
            "/content/drive/MyDrive/CK+48/surprise/S126_004_00000010.png   4\n",
            "/content/drive/MyDrive/CK+48/surprise/S124_001_00000012.png   4\n",
            "/content/drive/MyDrive/CK+48/surprise/S113_001_00000010.png   4\n",
            "/content/drive/MyDrive/CK+48/surprise/S107_001_00000010.png   4\n",
            "/content/drive/MyDrive/CK+48/surprise/S115_001_00000006.png   4\n",
            "/content/drive/MyDrive/CK+48/surprise/S107_001_00000009.png   4\n",
            "/content/drive/MyDrive/CK+48/surprise/S115_001_00000008.png   4\n",
            "/content/drive/MyDrive/CK+48/surprise/S117_001_00000012.png   4\n",
            "/content/drive/MyDrive/CK+48/surprise/S116_001_00000014.png   4\n",
            "/content/drive/MyDrive/CK+48/surprise/S114_001_00000016.png   4\n",
            "/content/drive/MyDrive/CK+48/surprise/S122_001_00000011.png   4\n",
            "/content/drive/MyDrive/CK+48/surprise/S107_001_00000008.png   4\n",
            "/content/drive/MyDrive/CK+48/surprise/S113_001_00000012.png   4\n",
            "/content/drive/MyDrive/CK+48/surprise/S111_001_00000014.png   4\n",
            "/content/drive/MyDrive/CK+48/surprise/S113_001_00000011.png   4\n",
            "/content/drive/MyDrive/CK+48/surprise/S115_001_00000007.png   4\n",
            "/content/drive/MyDrive/CK+48/surprise/S124_001_00000013.png   4\n",
            "/content/drive/MyDrive/CK+48/surprise/S111_001_00000012.png   4\n",
            "/content/drive/MyDrive/CK+48/surprise/S122_001_00000010.png   4\n",
            "/content/drive/MyDrive/CK+48/surprise/S124_001_00000014.png   4\n",
            "/content/drive/MyDrive/CK+48/surprise/S125_007_00000007.png   4\n",
            "/content/drive/MyDrive/CK+48/surprise/S114_001_00000017.png   4\n",
            "/content/drive/MyDrive/CK+48/surprise/S116_001_00000013.png   4\n",
            "/content/drive/MyDrive/CK+48/surprise/S119_001_00000010.png   4\n",
            "/content/drive/MyDrive/CK+48/surprise/S116_001_00000012.png   4\n",
            "/content/drive/MyDrive/CK+48/surprise/S136_001_00000017.png   4\n",
            "/content/drive/MyDrive/CK+48/surprise/S129_002_00000009.png   4\n",
            "/content/drive/MyDrive/CK+48/surprise/S138_004_00000012.png   4\n",
            "/content/drive/MyDrive/CK+48/surprise/S131_001_00000015.png   4\n",
            "/content/drive/MyDrive/CK+48/surprise/S137_001_00000014.png   4\n",
            "/content/drive/MyDrive/CK+48/surprise/S132_008_00000009.png   4\n",
            "/content/drive/MyDrive/CK+48/surprise/S127_001_00000017.png   4\n",
            "/content/drive/MyDrive/CK+48/surprise/S135_001_00000037.png   4\n",
            "/content/drive/MyDrive/CK+48/surprise/S133_009_00000005.png   4\n",
            "/content/drive/MyDrive/CK+48/surprise/S127_001_00000016.png   4\n",
            "/content/drive/MyDrive/CK+48/surprise/S129_002_00000010.png   4\n",
            "/content/drive/MyDrive/CK+48/surprise/S135_001_00000038.png   4\n",
            "/content/drive/MyDrive/CK+48/surprise/S138_004_00000011.png   4\n",
            "/content/drive/MyDrive/CK+48/surprise/S137_001_00000012.png   4\n",
            "/content/drive/MyDrive/CK+48/surprise/S135_001_00000039.png   4\n",
            "/content/drive/MyDrive/CK+48/surprise/S126_004_00000012.png   4\n",
            "/content/drive/MyDrive/CK+48/surprise/S133_009_00000006.png   4\n",
            "/content/drive/MyDrive/CK+48/surprise/S129_002_00000011.png   4\n",
            "/content/drive/MyDrive/CK+48/surprise/S133_009_00000004.png   4\n",
            "/content/drive/MyDrive/CK+48/surprise/S132_008_00000008.png   4\n",
            "/content/drive/MyDrive/CK+48/surprise/S132_008_00000010.png   4\n",
            "/content/drive/MyDrive/CK+48/surprise/S131_001_00000016.png   4\n",
            "/content/drive/MyDrive/CK+48/surprise/S136_001_00000018.png   4\n",
            "/content/drive/MyDrive/CK+48/surprise/S138_004_00000013.png   4\n",
            "/content/drive/MyDrive/CK+48/surprise/S130_001_00000016.png   4\n",
            "/content/drive/MyDrive/CK+48/surprise/S130_001_00000018.png   4\n",
            "/content/drive/MyDrive/CK+48/surprise/S136_001_00000019.png   4\n",
            "/content/drive/MyDrive/CK+48/surprise/S131_001_00000014.png   4\n",
            "/content/drive/MyDrive/CK+48/surprise/S127_001_00000015.png   4\n",
            "/content/drive/MyDrive/CK+48/surprise/S130_001_00000017.png   4\n",
            "/content/drive/MyDrive/CK+48/surprise/S137_001_00000013.png   4\n",
            "/content/drive/MyDrive/CK+48/fear/S046_003_00000014.png   0\n",
            "/content/drive/MyDrive/CK+48/fear/S011_003_00000014.png   0\n",
            "/content/drive/MyDrive/CK+48/fear/S055_006_00000006.png   0\n",
            "/content/drive/MyDrive/CK+48/fear/S032_004_00000014.png   0\n",
            "/content/drive/MyDrive/CK+48/fear/S011_003_00000013.png   0\n",
            "/content/drive/MyDrive/CK+48/fear/S054_002_00000013.png   0\n",
            "/content/drive/MyDrive/CK+48/fear/S054_002_00000014.png   0\n",
            "/content/drive/MyDrive/CK+48/fear/S050_001_00000015.png   0\n",
            "/content/drive/MyDrive/CK+48/fear/S054_002_00000015.png   0\n",
            "/content/drive/MyDrive/CK+48/fear/S050_001_00000017.png   0\n",
            "/content/drive/MyDrive/CK+48/fear/S011_003_00000012.png   0\n",
            "/content/drive/MyDrive/CK+48/fear/S032_004_00000013.png   0\n",
            "/content/drive/MyDrive/CK+48/fear/S050_001_00000016.png   0\n",
            "/content/drive/MyDrive/CK+48/fear/S046_003_00000016.png   0\n",
            "/content/drive/MyDrive/CK+48/fear/S046_003_00000015.png   0\n",
            "/content/drive/MyDrive/CK+48/fear/S032_004_00000012.png   0\n",
            "/content/drive/MyDrive/CK+48/fear/S055_006_00000008.png   0\n",
            "/content/drive/MyDrive/CK+48/fear/S068_004_00000010.png   0\n",
            "/content/drive/MyDrive/CK+48/fear/S062_001_00000015.png   0\n",
            "/content/drive/MyDrive/CK+48/fear/S059_002_00000015.png   0\n",
            "/content/drive/MyDrive/CK+48/fear/S065_002_00000020.png   0\n",
            "/content/drive/MyDrive/CK+48/fear/S059_002_00000016.png   0\n",
            "/content/drive/MyDrive/CK+48/fear/S074_001_00000019.png   0\n",
            "/content/drive/MyDrive/CK+48/fear/S068_004_00000008.png   0\n",
            "/content/drive/MyDrive/CK+48/fear/S055_006_00000007.png   0\n",
            "/content/drive/MyDrive/CK+48/fear/S065_002_00000022.png   0\n",
            "/content/drive/MyDrive/CK+48/fear/S074_001_00000018.png   0\n",
            "/content/drive/MyDrive/CK+48/fear/S062_001_00000016.png   0\n",
            "/content/drive/MyDrive/CK+48/fear/S065_002_00000021.png   0\n",
            "/content/drive/MyDrive/CK+48/fear/S059_002_00000017.png   0\n",
            "/content/drive/MyDrive/CK+48/fear/S074_001_00000020.png   0\n",
            "/content/drive/MyDrive/CK+48/fear/S068_004_00000009.png   0\n",
            "/content/drive/MyDrive/CK+48/fear/S062_001_00000017.png   0\n",
            "/content/drive/MyDrive/CK+48/fear/S117_003_00000013.png   0\n",
            "/content/drive/MyDrive/CK+48/fear/S117_003_00000014.png   0\n",
            "/content/drive/MyDrive/CK+48/fear/S102_003_00000016.png   0\n",
            "/content/drive/MyDrive/CK+48/fear/S091_001_00000015.png   0\n",
            "/content/drive/MyDrive/CK+48/fear/S102_003_00000015.png   0\n",
            "/content/drive/MyDrive/CK+48/fear/S124_003_00000010.png   0\n",
            "/content/drive/MyDrive/CK+48/fear/S091_001_00000014.png   0\n",
            "/content/drive/MyDrive/CK+48/fear/S084_002_00000022.png   0\n",
            "/content/drive/MyDrive/CK+48/fear/S102_003_00000014.png   0\n",
            "/content/drive/MyDrive/CK+48/fear/S119_003_00000023.png   0\n",
            "/content/drive/MyDrive/CK+48/fear/S091_001_00000013.png   0\n",
            "/content/drive/MyDrive/CK+48/fear/S119_003_00000022.png   0\n",
            "/content/drive/MyDrive/CK+48/fear/S084_002_00000021.png   0\n",
            "/content/drive/MyDrive/CK+48/fear/S117_003_00000012.png   0\n",
            "/content/drive/MyDrive/CK+48/fear/S124_003_00000009.png   0\n",
            "/content/drive/MyDrive/CK+48/fear/S084_002_00000023.png   0\n",
            "/content/drive/MyDrive/CK+48/fear/S119_003_00000024.png   0\n",
            "/content/drive/MyDrive/CK+48/fear/S125_006_00000022.png   0\n",
            "/content/drive/MyDrive/CK+48/fear/S502_004_00000050.png   0\n",
            "/content/drive/MyDrive/CK+48/fear/S132_003_00000023.png   0\n",
            "/content/drive/MyDrive/CK+48/fear/S138_001_00000012.png   0\n",
            "/content/drive/MyDrive/CK+48/fear/S132_003_00000022.png   0\n",
            "/content/drive/MyDrive/CK+48/fear/S502_004_00000051.png   0\n",
            "/content/drive/MyDrive/CK+48/fear/S501_004_00000054.png   0\n",
            "/content/drive/MyDrive/CK+48/fear/S124_003_00000011.png   0\n",
            "/content/drive/MyDrive/CK+48/fear/S138_001_00000010.png   0\n",
            "/content/drive/MyDrive/CK+48/fear/S502_004_00000052.png   0\n",
            "/content/drive/MyDrive/CK+48/fear/S138_001_00000011.png   0\n",
            "/content/drive/MyDrive/CK+48/fear/S125_006_00000021.png   0\n",
            "/content/drive/MyDrive/CK+48/fear/S501_004_00000055.png   0\n",
            "/content/drive/MyDrive/CK+48/fear/S504_004_00000013.png   0\n",
            "/content/drive/MyDrive/CK+48/fear/S501_004_00000056.png   0\n",
            "/content/drive/MyDrive/CK+48/fear/S132_003_00000021.png   0\n",
            "/content/drive/MyDrive/CK+48/fear/S125_006_00000020.png   0\n",
            "/content/drive/MyDrive/CK+48/fear/S504_004_00000014.png   0\n",
            "/content/drive/MyDrive/CK+48/fear/S999_003_00000055.png   0\n",
            "/content/drive/MyDrive/CK+48/fear/S506_004_00000037.png   0\n",
            "/content/drive/MyDrive/CK+48/fear/S504_004_00000015.png   0\n",
            "/content/drive/MyDrive/CK+48/fear/S999_003_00000053.png   0\n",
            "/content/drive/MyDrive/CK+48/fear/S506_004_00000036.png   0\n",
            "/content/drive/MyDrive/CK+48/fear/S506_004_00000038.png   0\n",
            "/content/drive/MyDrive/CK+48/fear/S999_003_00000054.png   0\n",
            "/content/drive/MyDrive/CK+48/disgust/S005_001_00000010.png   5\n",
            "/content/drive/MyDrive/CK+48/disgust/S005_001_00000011.png   5\n",
            "/content/drive/MyDrive/CK+48/disgust/S005_001_00000009.png   5\n",
            "/content/drive/MyDrive/CK+48/disgust/S022_006_00000015.png   5\n",
            "/content/drive/MyDrive/CK+48/disgust/S045_004_00000014.png   5\n",
            "/content/drive/MyDrive/CK+48/disgust/S032_005_00000016.png   5\n",
            "/content/drive/MyDrive/CK+48/disgust/S044_006_00000018.png   5\n",
            "/content/drive/MyDrive/CK+48/disgust/S035_005_00000018.png   5\n",
            "/content/drive/MyDrive/CK+48/disgust/S044_006_00000019.png   5\n",
            "/content/drive/MyDrive/CK+48/disgust/S022_006_00000017.png   5\n",
            "/content/drive/MyDrive/CK+48/disgust/S035_005_00000017.png   5\n",
            "/content/drive/MyDrive/CK+48/disgust/S011_005_00000019.png   5\n",
            "/content/drive/MyDrive/CK+48/disgust/S011_005_00000018.png   5\n",
            "/content/drive/MyDrive/CK+48/disgust/S035_005_00000019.png   5\n",
            "/content/drive/MyDrive/CK+48/disgust/S045_004_00000013.png   5\n",
            "/content/drive/MyDrive/CK+48/disgust/S032_005_00000015.png   5\n",
            "/content/drive/MyDrive/CK+48/disgust/S022_006_00000016.png   5\n",
            "/content/drive/MyDrive/CK+48/disgust/S044_006_00000017.png   5\n",
            "/content/drive/MyDrive/CK+48/disgust/S011_005_00000020.png   5\n",
            "/content/drive/MyDrive/CK+48/disgust/S032_005_00000014.png   5\n",
            "/content/drive/MyDrive/CK+48/disgust/S045_004_00000015.png   5\n",
            "/content/drive/MyDrive/CK+48/disgust/S051_003_00000018.png   5\n",
            "/content/drive/MyDrive/CK+48/disgust/S051_003_00000016.png   5\n",
            "/content/drive/MyDrive/CK+48/disgust/S051_003_00000017.png   5\n",
            "/content/drive/MyDrive/CK+48/disgust/S054_004_00000024.png   5\n",
            "/content/drive/MyDrive/CK+48/disgust/S054_004_00000023.png   5\n",
            "/content/drive/MyDrive/CK+48/disgust/S046_004_00000016.png   5\n",
            "/content/drive/MyDrive/CK+48/disgust/S054_004_00000022.png   5\n",
            "/content/drive/MyDrive/CK+48/disgust/S046_004_00000015.png   5\n",
            "/content/drive/MyDrive/CK+48/disgust/S056_002_00000009.png   5\n",
            "/content/drive/MyDrive/CK+48/disgust/S056_002_00000008.png   5\n",
            "/content/drive/MyDrive/CK+48/disgust/S055_003_00000009.png   5\n",
            "/content/drive/MyDrive/CK+48/disgust/S055_003_00000008.png   5\n",
            "/content/drive/MyDrive/CK+48/disgust/S046_004_00000017.png   5\n",
            "/content/drive/MyDrive/CK+48/disgust/S052_006_00000012.png   5\n",
            "/content/drive/MyDrive/CK+48/disgust/S052_006_00000011.png   5\n",
            "/content/drive/MyDrive/CK+48/disgust/S055_003_00000007.png   5\n",
            "/content/drive/MyDrive/CK+48/disgust/S052_006_00000013.png   5\n",
            "/content/drive/MyDrive/CK+48/disgust/S062_005_00000028.png   5\n",
            "/content/drive/MyDrive/CK+48/disgust/S058_006_00000016.png   5\n",
            "/content/drive/MyDrive/CK+48/disgust/S062_005_00000029.png   5\n",
            "/content/drive/MyDrive/CK+48/disgust/S060_005_00000019.png   5\n",
            "/content/drive/MyDrive/CK+48/disgust/S061_004_00000020.png   5\n",
            "/content/drive/MyDrive/CK+48/disgust/S057_003_00000014.png   5\n",
            "/content/drive/MyDrive/CK+48/disgust/S060_005_00000020.png   5\n",
            "/content/drive/MyDrive/CK+48/disgust/S062_005_00000027.png   5\n",
            "/content/drive/MyDrive/CK+48/disgust/S057_003_00000015.png   5\n",
            "/content/drive/MyDrive/CK+48/disgust/S058_006_00000018.png   5\n",
            "/content/drive/MyDrive/CK+48/disgust/S061_004_00000022.png   5\n",
            "/content/drive/MyDrive/CK+48/disgust/S061_004_00000021.png   5\n",
            "/content/drive/MyDrive/CK+48/disgust/S058_006_00000017.png   5\n",
            "/content/drive/MyDrive/CK+48/disgust/S056_002_00000010.png   5\n",
            "/content/drive/MyDrive/CK+48/disgust/S060_005_00000021.png   5\n",
            "/content/drive/MyDrive/CK+48/disgust/S065_005_00000006.png   5\n",
            "/content/drive/MyDrive/CK+48/disgust/S065_005_00000007.png   5\n",
            "/content/drive/MyDrive/CK+48/disgust/S057_003_00000013.png   5\n",
            "/content/drive/MyDrive/CK+48/disgust/S068_005_00000019.png   5\n",
            "/content/drive/MyDrive/CK+48/disgust/S070_005_00000016.png   5\n",
            "/content/drive/MyDrive/CK+48/disgust/S069_003_00000011.png   5\n",
            "/content/drive/MyDrive/CK+48/disgust/S067_006_00000011.png   5\n",
            "/content/drive/MyDrive/CK+48/disgust/S068_005_00000021.png   5\n",
            "/content/drive/MyDrive/CK+48/disgust/S073_006_00000012.png   5\n",
            "/content/drive/MyDrive/CK+48/disgust/S065_005_00000008.png   5\n",
            "/content/drive/MyDrive/CK+48/disgust/S067_006_00000009.png   5\n",
            "/content/drive/MyDrive/CK+48/disgust/S069_003_00000009.png   5\n",
            "/content/drive/MyDrive/CK+48/disgust/S068_005_00000020.png   5\n",
            "/content/drive/MyDrive/CK+48/disgust/S071_006_00000014.png   5\n",
            "/content/drive/MyDrive/CK+48/disgust/S070_005_00000015.png   5\n",
            "/content/drive/MyDrive/CK+48/disgust/S069_003_00000010.png   5\n",
            "/content/drive/MyDrive/CK+48/disgust/S071_006_00000013.png   5\n",
            "/content/drive/MyDrive/CK+48/disgust/S070_005_00000014.png   5\n",
            "/content/drive/MyDrive/CK+48/disgust/S071_006_00000012.png   5\n",
            "/content/drive/MyDrive/CK+48/disgust/S067_006_00000010.png   5\n",
            "/content/drive/MyDrive/CK+48/disgust/S075_005_00000012.png   5\n",
            "/content/drive/MyDrive/CK+48/disgust/S077_006_00000012.png   5\n",
            "/content/drive/MyDrive/CK+48/disgust/S075_005_00000010.png   5\n",
            "/content/drive/MyDrive/CK+48/disgust/S074_004_00000016.png   5\n",
            "/content/drive/MyDrive/CK+48/disgust/S076_005_00000012.png   5\n",
            "/content/drive/MyDrive/CK+48/disgust/S076_005_00000010.png   5\n",
            "/content/drive/MyDrive/CK+48/disgust/S078_007_00000012.png   5\n",
            "/content/drive/MyDrive/CK+48/disgust/S078_007_00000013.png   5\n",
            "/content/drive/MyDrive/CK+48/disgust/S077_006_00000014.png   5\n",
            "/content/drive/MyDrive/CK+48/disgust/S074_004_00000018.png   5\n",
            "/content/drive/MyDrive/CK+48/disgust/S074_004_00000017.png   5\n",
            "/content/drive/MyDrive/CK+48/disgust/S078_007_00000011.png   5\n",
            "/content/drive/MyDrive/CK+48/disgust/S073_006_00000013.png   5\n",
            "/content/drive/MyDrive/CK+48/disgust/S077_006_00000013.png   5\n",
            "/content/drive/MyDrive/CK+48/disgust/S076_005_00000011.png   5\n",
            "/content/drive/MyDrive/CK+48/disgust/S073_006_00000014.png   5\n",
            "/content/drive/MyDrive/CK+48/disgust/S075_005_00000011.png   5\n",
            "/content/drive/MyDrive/CK+48/disgust/S085_004_00000017.png   5\n",
            "/content/drive/MyDrive/CK+48/disgust/S085_004_00000016.png   5\n",
            "/content/drive/MyDrive/CK+48/disgust/S085_004_00000015.png   5\n",
            "/content/drive/MyDrive/CK+48/disgust/S079_002_00000011.png   5\n",
            "/content/drive/MyDrive/CK+48/disgust/S087_004_00000011.png   5\n",
            "/content/drive/MyDrive/CK+48/disgust/S079_002_00000012.png   5\n",
            "/content/drive/MyDrive/CK+48/disgust/S082_007_00000009.png   5\n",
            "/content/drive/MyDrive/CK+48/disgust/S081_008_00000010.png   5\n",
            "/content/drive/MyDrive/CK+48/disgust/S080_008_00000007.png   5\n",
            "/content/drive/MyDrive/CK+48/disgust/S082_007_00000010.png   5\n",
            "/content/drive/MyDrive/CK+48/disgust/S081_008_00000009.png   5\n",
            "/content/drive/MyDrive/CK+48/disgust/S079_002_00000010.png   5\n",
            "/content/drive/MyDrive/CK+48/disgust/S081_008_00000011.png   5\n",
            "/content/drive/MyDrive/CK+48/disgust/S080_008_00000008.png   5\n",
            "/content/drive/MyDrive/CK+48/disgust/S080_008_00000009.png   5\n",
            "/content/drive/MyDrive/CK+48/disgust/S087_004_00000010.png   5\n",
            "/content/drive/MyDrive/CK+48/disgust/S082_007_00000008.png   5\n",
            "/content/drive/MyDrive/CK+48/disgust/S098_003_00000011.png   5\n",
            "/content/drive/MyDrive/CK+48/disgust/S088_004_00000020.png   5\n",
            "/content/drive/MyDrive/CK+48/disgust/S090_006_00000010.png   5\n",
            "/content/drive/MyDrive/CK+48/disgust/S088_004_00000018.png   5\n",
            "/content/drive/MyDrive/CK+48/disgust/S097_004_00000030.png   5\n",
            "/content/drive/MyDrive/CK+48/disgust/S090_006_00000009.png   5\n",
            "/content/drive/MyDrive/CK+48/disgust/S087_004_00000012.png   5\n",
            "/content/drive/MyDrive/CK+48/disgust/S088_004_00000019.png   5\n",
            "/content/drive/MyDrive/CK+48/disgust/S090_006_00000011.png   5\n",
            "/content/drive/MyDrive/CK+48/disgust/S095_006_00000013.png   5\n",
            "/content/drive/MyDrive/CK+48/disgust/S097_004_00000029.png   5\n",
            "/content/drive/MyDrive/CK+48/disgust/S095_006_00000012.png   5\n",
            "/content/drive/MyDrive/CK+48/disgust/S095_006_00000011.png   5\n",
            "/content/drive/MyDrive/CK+48/disgust/S096_003_00000012.png   5\n",
            "/content/drive/MyDrive/CK+48/disgust/S096_003_00000011.png   5\n",
            "/content/drive/MyDrive/CK+48/disgust/S096_003_00000010.png   5\n",
            "/content/drive/MyDrive/CK+48/disgust/S097_004_00000028.png   5\n",
            "/content/drive/MyDrive/CK+48/disgust/S098_003_00000012.png   5\n",
            "/content/drive/MyDrive/CK+48/disgust/S099_007_00000012.png   5\n",
            "/content/drive/MyDrive/CK+48/disgust/S105_008_00000009.png   5\n",
            "/content/drive/MyDrive/CK+48/disgust/S106_004_00000006.png   5\n",
            "/content/drive/MyDrive/CK+48/disgust/S106_004_00000007.png   5\n",
            "/content/drive/MyDrive/CK+48/disgust/S099_007_00000010.png   5\n",
            "/content/drive/MyDrive/CK+48/disgust/S105_008_00000008.png   5\n",
            "/content/drive/MyDrive/CK+48/disgust/S098_003_00000013.png   5\n",
            "/content/drive/MyDrive/CK+48/disgust/S102_009_00000015.png   5\n",
            "/content/drive/MyDrive/CK+48/disgust/S107_005_00000011.png   5\n",
            "/content/drive/MyDrive/CK+48/disgust/S106_004_00000008.png   5\n",
            "/content/drive/MyDrive/CK+48/disgust/S102_009_00000013.png   5\n",
            "/content/drive/MyDrive/CK+48/disgust/S107_005_00000010.png   5\n",
            "/content/drive/MyDrive/CK+48/disgust/S099_007_00000011.png   5\n",
            "/content/drive/MyDrive/CK+48/disgust/S107_005_00000009.png   5\n",
            "/content/drive/MyDrive/CK+48/disgust/S105_008_00000010.png   5\n",
            "/content/drive/MyDrive/CK+48/disgust/S102_009_00000014.png   5\n",
            "/content/drive/MyDrive/CK+48/disgust/S125_008_00000010.png   5\n",
            "/content/drive/MyDrive/CK+48/disgust/S111_007_00000012.png   5\n",
            "/content/drive/MyDrive/CK+48/disgust/S124_006_00000011.png   5\n",
            "/content/drive/MyDrive/CK+48/disgust/S108_006_00000020.png   5\n",
            "/content/drive/MyDrive/CK+48/disgust/S108_006_00000019.png   5\n",
            "/content/drive/MyDrive/CK+48/disgust/S111_007_00000013.png   5\n",
            "/content/drive/MyDrive/CK+48/disgust/S116_006_00000005.png   5\n",
            "/content/drive/MyDrive/CK+48/disgust/S111_007_00000014.png   5\n",
            "/content/drive/MyDrive/CK+48/disgust/S108_006_00000018.png   5\n",
            "/content/drive/MyDrive/CK+48/disgust/S109_005_00000012.png   5\n",
            "/content/drive/MyDrive/CK+48/disgust/S125_008_00000009.png   5\n",
            "/content/drive/MyDrive/CK+48/disgust/S109_005_00000013.png   5\n",
            "/content/drive/MyDrive/CK+48/disgust/S109_005_00000014.png   5\n",
            "/content/drive/MyDrive/CK+48/disgust/S116_006_00000007.png   5\n",
            "/content/drive/MyDrive/CK+48/disgust/S124_006_00000009.png   5\n",
            "/content/drive/MyDrive/CK+48/disgust/S116_006_00000006.png   5\n",
            "/content/drive/MyDrive/CK+48/disgust/S124_006_00000010.png   5\n",
            "/content/drive/MyDrive/CK+48/disgust/S125_008_00000008.png   5\n",
            "/content/drive/MyDrive/CK+48/disgust/S132_005_00000015.png   5\n",
            "/content/drive/MyDrive/CK+48/disgust/S128_004_00000012.png   5\n",
            "/content/drive/MyDrive/CK+48/disgust/S132_005_00000016.png   5\n",
            "/content/drive/MyDrive/CK+48/disgust/S134_008_00000011.png   5\n",
            "/content/drive/MyDrive/CK+48/disgust/S130_012_00000011.png   5\n",
            "/content/drive/MyDrive/CK+48/disgust/S131_010_00000018.png   5\n",
            "/content/drive/MyDrive/CK+48/disgust/S132_005_00000014.png   5\n",
            "/content/drive/MyDrive/CK+48/disgust/S128_004_00000011.png   5\n",
            "/content/drive/MyDrive/CK+48/disgust/S129_011_00000016.png   5\n",
            "/content/drive/MyDrive/CK+48/disgust/S130_012_00000010.png   5\n",
            "/content/drive/MyDrive/CK+48/disgust/S129_011_00000017.png   5\n",
            "/content/drive/MyDrive/CK+48/disgust/S131_010_00000016.png   5\n",
            "/content/drive/MyDrive/CK+48/disgust/S131_010_00000017.png   5\n",
            "/content/drive/MyDrive/CK+48/disgust/S128_004_00000013.png   5\n",
            "/content/drive/MyDrive/CK+48/disgust/S129_011_00000018.png   5\n",
            "/content/drive/MyDrive/CK+48/disgust/S130_012_00000009.png   5\n",
            "/content/drive/MyDrive/CK+48/disgust/S134_008_00000012.png   5\n",
            "/content/drive/MyDrive/CK+48/disgust/S134_008_00000013.png   5\n",
            "/content/drive/MyDrive/CK+48/contempt/S138_008_00000009.png   1\n",
            "/content/drive/MyDrive/CK+48/contempt/S138_008_00000007.png   1\n",
            "/content/drive/MyDrive/CK+48/contempt/S138_008_00000008.png   1\n",
            "/content/drive/MyDrive/CK+48/contempt/S139_002_00000012.png   1\n",
            "/content/drive/MyDrive/CK+48/contempt/S139_002_00000011.png   1\n",
            "/content/drive/MyDrive/CK+48/contempt/S148_002_00000015.png   1\n",
            "/content/drive/MyDrive/CK+48/contempt/S149_002_00000012.png   1\n",
            "/content/drive/MyDrive/CK+48/contempt/S147_002_00000011.png   1\n",
            "/content/drive/MyDrive/CK+48/contempt/S151_002_00000029.png   1\n",
            "/content/drive/MyDrive/CK+48/contempt/S154_002_00000012.png   1\n",
            "/content/drive/MyDrive/CK+48/contempt/S147_002_00000013.png   1\n",
            "/content/drive/MyDrive/CK+48/contempt/S149_002_00000011.png   1\n",
            "/content/drive/MyDrive/CK+48/contempt/S148_002_00000014.png   1\n",
            "/content/drive/MyDrive/CK+48/contempt/S148_002_00000013.png   1\n",
            "/content/drive/MyDrive/CK+48/contempt/S154_002_00000011.png   1\n",
            "/content/drive/MyDrive/CK+48/contempt/S147_002_00000012.png   1\n",
            "/content/drive/MyDrive/CK+48/contempt/S149_002_00000013.png   1\n",
            "/content/drive/MyDrive/CK+48/contempt/S151_002_00000028.png   1\n",
            "/content/drive/MyDrive/CK+48/contempt/S139_002_00000013.png   1\n",
            "/content/drive/MyDrive/CK+48/contempt/S151_002_00000027.png   1\n",
            "/content/drive/MyDrive/CK+48/contempt/S160_006_00000008.png   1\n",
            "/content/drive/MyDrive/CK+48/contempt/S156_002_00000019.png   1\n",
            "/content/drive/MyDrive/CK+48/contempt/S502_002_00000009.png   1\n",
            "/content/drive/MyDrive/CK+48/contempt/S156_002_00000020.png   1\n",
            "/content/drive/MyDrive/CK+48/contempt/S502_002_00000008.png   1\n",
            "/content/drive/MyDrive/CK+48/contempt/S155_002_00000011.png   1\n",
            "/content/drive/MyDrive/CK+48/contempt/S156_002_00000021.png   1\n",
            "/content/drive/MyDrive/CK+48/contempt/S502_002_00000007.png   1\n",
            "/content/drive/MyDrive/CK+48/contempt/S157_002_00000009.png   1\n",
            "/content/drive/MyDrive/CK+48/contempt/S160_006_00000009.png   1\n",
            "/content/drive/MyDrive/CK+48/contempt/S155_002_00000010.png   1\n",
            "/content/drive/MyDrive/CK+48/contempt/S157_002_00000011.png   1\n",
            "/content/drive/MyDrive/CK+48/contempt/S158_002_00000011.png   1\n",
            "/content/drive/MyDrive/CK+48/contempt/S154_002_00000013.png   1\n",
            "/content/drive/MyDrive/CK+48/contempt/S155_002_00000012.png   1\n",
            "/content/drive/MyDrive/CK+48/contempt/S157_002_00000010.png   1\n",
            "/content/drive/MyDrive/CK+48/contempt/S158_002_00000009.png   1\n",
            "/content/drive/MyDrive/CK+48/contempt/S160_006_00000010.png   1\n",
            "/content/drive/MyDrive/CK+48/contempt/S158_002_00000010.png   1\n",
            "/content/drive/MyDrive/CK+48/contempt/S504_002_00000007.png   1\n",
            "/content/drive/MyDrive/CK+48/contempt/S895_002_00000005.png   1\n",
            "/content/drive/MyDrive/CK+48/contempt/S505_002_00000019.png   1\n",
            "/content/drive/MyDrive/CK+48/contempt/S503_002_00000006.png   1\n",
            "/content/drive/MyDrive/CK+48/contempt/S503_002_00000007.png   1\n",
            "/content/drive/MyDrive/CK+48/contempt/S506_002_00000009.png   1\n",
            "/content/drive/MyDrive/CK+48/contempt/S504_002_00000009.png   1\n",
            "/content/drive/MyDrive/CK+48/contempt/S504_002_00000008.png   1\n",
            "/content/drive/MyDrive/CK+48/contempt/S505_002_00000020.png   1\n",
            "/content/drive/MyDrive/CK+48/contempt/S895_002_00000006.png   1\n",
            "/content/drive/MyDrive/CK+48/contempt/S506_002_00000008.png   1\n",
            "/content/drive/MyDrive/CK+48/contempt/S506_002_00000007.png   1\n",
            "/content/drive/MyDrive/CK+48/contempt/S895_002_00000007.png   1\n",
            "/content/drive/MyDrive/CK+48/contempt/S505_002_00000021.png   1\n",
            "/content/drive/MyDrive/CK+48/contempt/S503_002_00000008.png   1\n",
            "/content/drive/MyDrive/CK+48/happy/S011_006_00000013.png   2\n",
            "/content/drive/MyDrive/CK+48/happy/S014_005_00000015.png   2\n",
            "/content/drive/MyDrive/CK+48/happy/S010_006_00000015.png   2\n",
            "/content/drive/MyDrive/CK+48/happy/S014_005_00000017.png   2\n",
            "/content/drive/MyDrive/CK+48/happy/S014_005_00000016.png   2\n",
            "/content/drive/MyDrive/CK+48/happy/S010_006_00000013.png   2\n",
            "/content/drive/MyDrive/CK+48/happy/S010_006_00000014.png   2\n",
            "/content/drive/MyDrive/CK+48/happy/S011_006_00000012.png   2\n",
            "/content/drive/MyDrive/CK+48/happy/S011_006_00000011.png   2\n",
            "/content/drive/MyDrive/CK+48/happy/S035_006_00000016.png   2\n",
            "/content/drive/MyDrive/CK+48/happy/S026_006_00000012.png   2\n",
            "/content/drive/MyDrive/CK+48/happy/S034_005_00000009.png   2\n",
            "/content/drive/MyDrive/CK+48/happy/S037_006_00000019.png   2\n",
            "/content/drive/MyDrive/CK+48/happy/S026_006_00000011.png   2\n",
            "/content/drive/MyDrive/CK+48/happy/S042_006_00000016.png   2\n",
            "/content/drive/MyDrive/CK+48/happy/S032_006_00000015.png   2\n",
            "/content/drive/MyDrive/CK+48/happy/S037_006_00000021.png   2\n",
            "/content/drive/MyDrive/CK+48/happy/S035_006_00000018.png   2\n",
            "/content/drive/MyDrive/CK+48/happy/S032_006_00000014.png   2\n",
            "/content/drive/MyDrive/CK+48/happy/S037_006_00000020.png   2\n",
            "/content/drive/MyDrive/CK+48/happy/S034_005_00000008.png   2\n",
            "/content/drive/MyDrive/CK+48/happy/S026_006_00000013.png   2\n",
            "/content/drive/MyDrive/CK+48/happy/S035_006_00000017.png   2\n",
            "/content/drive/MyDrive/CK+48/happy/S032_006_00000016.png   2\n",
            "/content/drive/MyDrive/CK+48/happy/S042_006_00000015.png   2\n",
            "/content/drive/MyDrive/CK+48/happy/S034_005_00000010.png   2\n",
            "/content/drive/MyDrive/CK+48/happy/S044_003_00000014.png   2\n",
            "/content/drive/MyDrive/CK+48/happy/S055_005_00000045.png   2\n",
            "/content/drive/MyDrive/CK+48/happy/S052_004_00000032.png   2\n",
            "/content/drive/MyDrive/CK+48/happy/S055_005_00000043.png   2\n",
            "/content/drive/MyDrive/CK+48/happy/S055_005_00000044.png   2\n",
            "/content/drive/MyDrive/CK+48/happy/S053_004_00000024.png   2\n",
            "/content/drive/MyDrive/CK+48/happy/S056_004_00000018.png   2\n",
            "/content/drive/MyDrive/CK+48/happy/S052_004_00000033.png   2\n",
            "/content/drive/MyDrive/CK+48/happy/S053_004_00000023.png   2\n",
            "/content/drive/MyDrive/CK+48/happy/S050_006_00000022.png   2\n",
            "/content/drive/MyDrive/CK+48/happy/S050_006_00000023.png   2\n",
            "/content/drive/MyDrive/CK+48/happy/S050_006_00000021.png   2\n",
            "/content/drive/MyDrive/CK+48/happy/S053_004_00000022.png   2\n",
            "/content/drive/MyDrive/CK+48/happy/S052_004_00000031.png   2\n",
            "/content/drive/MyDrive/CK+48/happy/S042_006_00000017.png   2\n",
            "/content/drive/MyDrive/CK+48/happy/S044_003_00000013.png   2\n",
            "/content/drive/MyDrive/CK+48/happy/S044_003_00000012.png   2\n",
            "/content/drive/MyDrive/CK+48/happy/S063_002_00000023.png   2\n",
            "/content/drive/MyDrive/CK+48/happy/S061_002_00000015.png   2\n",
            "/content/drive/MyDrive/CK+48/happy/S063_002_00000021.png   2\n",
            "/content/drive/MyDrive/CK+48/happy/S061_002_00000013.png   2\n",
            "/content/drive/MyDrive/CK+48/happy/S060_002_00000024.png   2\n",
            "/content/drive/MyDrive/CK+48/happy/S061_002_00000014.png   2\n",
            "/content/drive/MyDrive/CK+48/happy/S063_002_00000022.png   2\n",
            "/content/drive/MyDrive/CK+48/happy/S057_006_00000032.png   2\n",
            "/content/drive/MyDrive/CK+48/happy/S060_002_00000026.png   2\n",
            "/content/drive/MyDrive/CK+48/happy/S062_004_00000022.png   2\n",
            "/content/drive/MyDrive/CK+48/happy/S062_004_00000023.png   2\n",
            "/content/drive/MyDrive/CK+48/happy/S060_002_00000025.png   2\n",
            "/content/drive/MyDrive/CK+48/happy/S062_004_00000024.png   2\n",
            "/content/drive/MyDrive/CK+48/happy/S056_004_00000020.png   2\n",
            "/content/drive/MyDrive/CK+48/happy/S056_004_00000019.png   2\n",
            "/content/drive/MyDrive/CK+48/happy/S057_006_00000031.png   2\n",
            "/content/drive/MyDrive/CK+48/happy/S057_006_00000033.png   2\n",
            "/content/drive/MyDrive/CK+48/happy/S064_003_00000023.png   2\n",
            "/content/drive/MyDrive/CK+48/happy/S065_004_00000027.png   2\n",
            "/content/drive/MyDrive/CK+48/happy/S066_003_00000010.png   2\n",
            "/content/drive/MyDrive/CK+48/happy/S064_003_00000024.png   2\n",
            "/content/drive/MyDrive/CK+48/happy/S067_005_00000020.png   2\n",
            "/content/drive/MyDrive/CK+48/happy/S069_004_00000017.png   2\n",
            "/content/drive/MyDrive/CK+48/happy/S065_004_00000028.png   2\n",
            "/content/drive/MyDrive/CK+48/happy/S069_004_00000015.png   2\n",
            "/content/drive/MyDrive/CK+48/happy/S068_002_00000014.png   2\n",
            "/content/drive/MyDrive/CK+48/happy/S067_005_00000021.png   2\n",
            "/content/drive/MyDrive/CK+48/happy/S068_002_00000013.png   2\n",
            "/content/drive/MyDrive/CK+48/happy/S065_004_00000026.png   2\n",
            "/content/drive/MyDrive/CK+48/happy/S064_003_00000025.png   2\n",
            "/content/drive/MyDrive/CK+48/happy/S069_004_00000016.png   2\n",
            "/content/drive/MyDrive/CK+48/happy/S067_005_00000022.png   2\n",
            "/content/drive/MyDrive/CK+48/happy/S068_002_00000015.png   2\n",
            "/content/drive/MyDrive/CK+48/happy/S066_003_00000012.png   2\n",
            "/content/drive/MyDrive/CK+48/happy/S066_003_00000011.png   2\n",
            "/content/drive/MyDrive/CK+48/happy/S071_005_00000019.png   2\n",
            "/content/drive/MyDrive/CK+48/happy/S074_005_00000041.png   2\n",
            "/content/drive/MyDrive/CK+48/happy/S070_003_00000015.png   2\n",
            "/content/drive/MyDrive/CK+48/happy/S074_005_00000042.png   2\n",
            "/content/drive/MyDrive/CK+48/happy/S072_006_00000020.png   2\n",
            "/content/drive/MyDrive/CK+48/happy/S070_003_00000017.png   2\n",
            "/content/drive/MyDrive/CK+48/happy/S072_006_00000021.png   2\n",
            "/content/drive/MyDrive/CK+48/happy/S075_006_00000023.png   2\n",
            "/content/drive/MyDrive/CK+48/happy/S074_005_00000043.png   2\n",
            "/content/drive/MyDrive/CK+48/happy/S072_006_00000022.png   2\n",
            "/content/drive/MyDrive/CK+48/happy/S071_005_00000021.png   2\n",
            "/content/drive/MyDrive/CK+48/happy/S076_006_00000017.png   2\n",
            "/content/drive/MyDrive/CK+48/happy/S075_006_00000024.png   2\n",
            "/content/drive/MyDrive/CK+48/happy/S075_006_00000025.png   2\n",
            "/content/drive/MyDrive/CK+48/happy/S071_005_00000020.png   2\n",
            "/content/drive/MyDrive/CK+48/happy/S070_003_00000016.png   2\n",
            "/content/drive/MyDrive/CK+48/happy/S076_006_00000019.png   2\n",
            "/content/drive/MyDrive/CK+48/happy/S087_005_00000010.png   2\n",
            "/content/drive/MyDrive/CK+48/happy/S086_002_00000014.png   2\n",
            "/content/drive/MyDrive/CK+48/happy/S078_004_00000025.png   2\n",
            "/content/drive/MyDrive/CK+48/happy/S083_003_00000019.png   2\n",
            "/content/drive/MyDrive/CK+48/happy/S078_004_00000027.png   2\n",
            "/content/drive/MyDrive/CK+48/happy/S079_004_00000026.png   2\n",
            "/content/drive/MyDrive/CK+48/happy/S086_002_00000015.png   2\n",
            "/content/drive/MyDrive/CK+48/happy/S085_002_00000014.png   2\n",
            "/content/drive/MyDrive/CK+48/happy/S085_002_00000013.png   2\n",
            "/content/drive/MyDrive/CK+48/happy/S085_002_00000012.png   2\n",
            "/content/drive/MyDrive/CK+48/happy/S079_004_00000025.png   2\n",
            "/content/drive/MyDrive/CK+48/happy/S079_004_00000024.png   2\n",
            "/content/drive/MyDrive/CK+48/happy/S083_003_00000018.png   2\n",
            "/content/drive/MyDrive/CK+48/happy/S083_003_00000017.png   2\n",
            "/content/drive/MyDrive/CK+48/happy/S076_006_00000018.png   2\n",
            "/content/drive/MyDrive/CK+48/happy/S086_002_00000013.png   2\n",
            "/content/drive/MyDrive/CK+48/happy/S078_004_00000026.png   2\n",
            "/content/drive/MyDrive/CK+48/happy/S089_002_00000019.png   2\n",
            "/content/drive/MyDrive/CK+48/happy/S093_004_00000015.png   2\n",
            "/content/drive/MyDrive/CK+48/happy/S091_003_00000019.png   2\n",
            "/content/drive/MyDrive/CK+48/happy/S093_004_00000016.png   2\n",
            "/content/drive/MyDrive/CK+48/happy/S094_004_00000012.png   2\n",
            "/content/drive/MyDrive/CK+48/happy/S092_004_00000022.png   2\n",
            "/content/drive/MyDrive/CK+48/happy/S087_005_00000012.png   2\n",
            "/content/drive/MyDrive/CK+48/happy/S094_004_00000010.png   2\n",
            "/content/drive/MyDrive/CK+48/happy/S087_005_00000011.png   2\n",
            "/content/drive/MyDrive/CK+48/happy/S089_002_00000021.png   2\n",
            "/content/drive/MyDrive/CK+48/happy/S092_004_00000024.png   2\n",
            "/content/drive/MyDrive/CK+48/happy/S092_004_00000023.png   2\n",
            "/content/drive/MyDrive/CK+48/happy/S093_004_00000014.png   2\n",
            "/content/drive/MyDrive/CK+48/happy/S091_003_00000020.png   2\n",
            "/content/drive/MyDrive/CK+48/happy/S091_003_00000021.png   2\n",
            "/content/drive/MyDrive/CK+48/happy/S089_002_00000020.png   2\n",
            "/content/drive/MyDrive/CK+48/happy/S094_004_00000011.png   2\n",
            "/content/drive/MyDrive/CK+48/happy/S097_006_00000018.png   2\n",
            "/content/drive/MyDrive/CK+48/happy/S097_006_00000017.png   2\n",
            "/content/drive/MyDrive/CK+48/happy/S096_004_00000011.png   2\n",
            "/content/drive/MyDrive/CK+48/happy/S099_004_00000014.png   2\n",
            "/content/drive/MyDrive/CK+48/happy/S096_004_00000010.png   2\n",
            "/content/drive/MyDrive/CK+48/happy/S097_006_00000019.png   2\n",
            "/content/drive/MyDrive/CK+48/happy/S095_007_00000020.png   2\n",
            "/content/drive/MyDrive/CK+48/happy/S095_007_00000019.png   2\n",
            "/content/drive/MyDrive/CK+48/happy/S095_007_00000021.png   2\n",
            "/content/drive/MyDrive/CK+48/happy/S098_004_00000014.png   2\n",
            "/content/drive/MyDrive/CK+48/happy/S100_006_00000016.png   2\n",
            "/content/drive/MyDrive/CK+48/happy/S100_006_00000014.png   2\n",
            "/content/drive/MyDrive/CK+48/happy/S100_006_00000015.png   2\n",
            "/content/drive/MyDrive/CK+48/happy/S098_004_00000013.png   2\n",
            "/content/drive/MyDrive/CK+48/happy/S099_004_00000013.png   2\n",
            "/content/drive/MyDrive/CK+48/happy/S096_004_00000009.png   2\n",
            "/content/drive/MyDrive/CK+48/happy/S098_004_00000015.png   2\n",
            "/content/drive/MyDrive/CK+48/happy/S099_004_00000015.png   2\n",
            "/content/drive/MyDrive/CK+48/happy/S114_006_00000023.png   2\n",
            "/content/drive/MyDrive/CK+48/happy/S114_006_00000021.png   2\n",
            "/content/drive/MyDrive/CK+48/happy/S106_006_00000009.png   2\n",
            "/content/drive/MyDrive/CK+48/happy/S106_006_00000011.png   2\n",
            "/content/drive/MyDrive/CK+48/happy/S109_006_00000013.png   2\n",
            "/content/drive/MyDrive/CK+48/happy/S109_006_00000014.png   2\n",
            "/content/drive/MyDrive/CK+48/happy/S115_008_00000016.png   2\n",
            "/content/drive/MyDrive/CK+48/happy/S115_008_00000015.png   2\n",
            "/content/drive/MyDrive/CK+48/happy/S116_007_00000015.png   2\n",
            "/content/drive/MyDrive/CK+48/happy/S114_006_00000022.png   2\n",
            "/content/drive/MyDrive/CK+48/happy/S108_008_00000011.png   2\n",
            "/content/drive/MyDrive/CK+48/happy/S109_006_00000015.png   2\n",
            "/content/drive/MyDrive/CK+48/happy/S108_008_00000012.png   2\n",
            "/content/drive/MyDrive/CK+48/happy/S108_008_00000013.png   2\n",
            "/content/drive/MyDrive/CK+48/happy/S106_006_00000010.png   2\n",
            "/content/drive/MyDrive/CK+48/happy/S115_008_00000017.png   2\n",
            "/content/drive/MyDrive/CK+48/happy/S125_005_00000011.png   2\n",
            "/content/drive/MyDrive/CK+48/happy/S127_004_00000015.png   2\n",
            "/content/drive/MyDrive/CK+48/happy/S125_005_00000012.png   2\n",
            "/content/drive/MyDrive/CK+48/happy/S129_012_00000010.png   2\n",
            "/content/drive/MyDrive/CK+48/happy/S127_004_00000016.png   2\n",
            "/content/drive/MyDrive/CK+48/happy/S127_004_00000014.png   2\n",
            "/content/drive/MyDrive/CK+48/happy/S124_007_00000023.png   2\n",
            "/content/drive/MyDrive/CK+48/happy/S124_007_00000024.png   2\n",
            "/content/drive/MyDrive/CK+48/happy/S129_012_00000009.png   2\n",
            "/content/drive/MyDrive/CK+48/happy/S129_012_00000011.png   2\n",
            "/content/drive/MyDrive/CK+48/happy/S124_007_00000022.png   2\n",
            "/content/drive/MyDrive/CK+48/happy/S128_011_00000016.png   2\n",
            "/content/drive/MyDrive/CK+48/happy/S128_011_00000014.png   2\n",
            "/content/drive/MyDrive/CK+48/happy/S116_007_00000017.png   2\n",
            "/content/drive/MyDrive/CK+48/happy/S116_007_00000016.png   2\n",
            "/content/drive/MyDrive/CK+48/happy/S128_011_00000015.png   2\n",
            "/content/drive/MyDrive/CK+48/happy/S125_005_00000013.png   2\n",
            "/content/drive/MyDrive/CK+48/happy/S134_004_00000015.png   2\n",
            "/content/drive/MyDrive/CK+48/happy/S134_004_00000014.png   2\n",
            "/content/drive/MyDrive/CK+48/happy/S131_006_00000020.png   2\n",
            "/content/drive/MyDrive/CK+48/happy/S135_012_00000019.png   2\n",
            "/content/drive/MyDrive/CK+48/happy/S130_013_00000013.png   2\n",
            "/content/drive/MyDrive/CK+48/happy/S135_012_00000018.png   2\n",
            "/content/drive/MyDrive/CK+48/happy/S130_013_00000014.png   2\n",
            "/content/drive/MyDrive/CK+48/happy/S133_010_00000012.png   2\n",
            "/content/drive/MyDrive/CK+48/happy/S133_010_00000014.png   2\n",
            "/content/drive/MyDrive/CK+48/happy/S130_013_00000015.png   2\n",
            "/content/drive/MyDrive/CK+48/happy/S133_010_00000013.png   2\n",
            "/content/drive/MyDrive/CK+48/happy/S131_006_00000021.png   2\n",
            "/content/drive/MyDrive/CK+48/happy/S132_006_00000023.png   2\n",
            "/content/drive/MyDrive/CK+48/happy/S134_004_00000013.png   2\n",
            "/content/drive/MyDrive/CK+48/happy/S131_006_00000022.png   2\n",
            "/content/drive/MyDrive/CK+48/happy/S132_006_00000022.png   2\n",
            "/content/drive/MyDrive/CK+48/happy/S132_006_00000021.png   2\n",
            "/content/drive/MyDrive/CK+48/happy/S138_005_00000016.png   2\n",
            "/content/drive/MyDrive/CK+48/happy/S137_011_00000019.png   2\n",
            "/content/drive/MyDrive/CK+48/happy/S137_011_00000018.png   2\n",
            "/content/drive/MyDrive/CK+48/happy/S136_006_00000019.png   2\n",
            "/content/drive/MyDrive/CK+48/happy/S136_006_00000018.png   2\n",
            "/content/drive/MyDrive/CK+48/happy/S137_011_00000020.png   2\n",
            "/content/drive/MyDrive/CK+48/happy/S135_012_00000020.png   2\n",
            "/content/drive/MyDrive/CK+48/happy/S138_005_00000015.png   2\n",
            "/content/drive/MyDrive/CK+48/happy/S136_006_00000020.png   2\n",
            "/content/drive/MyDrive/CK+48/happy/S138_005_00000014.png   2\n"
          ]
        }
      ]
    },
    {
      "cell_type": "code",
      "source": [
        "from google.colab.patches import cv2_imshow"
      ],
      "metadata": {
        "id": "jUpUOokGSKLk"
      },
      "execution_count": null,
      "outputs": []
    },
    {
      "cell_type": "code",
      "source": [
        "\n",
        "last\n"
      ],
      "metadata": {
        "id": "eQxYjpRcSKNo",
        "colab": {
          "base_uri": "https://localhost:8080/"
        },
        "outputId": "cf474f64-5d02-4ea9-c6ea-5abcf3c64903"
      },
      "execution_count": null,
      "outputs": [
        {
          "output_type": "execute_result",
          "data": {
            "text/plain": [
              "[84, 219, 468, 543, 720, 774, 981]"
            ]
          },
          "metadata": {},
          "execution_count": 7
        }
      ]
    },
    {
      "cell_type": "code",
      "source": [
        "\n",
        "cv2_imshow(images[24])"
      ],
      "metadata": {
        "id": "DH-RwXenSKQE",
        "colab": {
          "base_uri": "https://localhost:8080/",
          "height": 65
        },
        "outputId": "87b4dd7f-259e-4161-aa8b-14d2c0af8cc2"
      },
      "execution_count": null,
      "outputs": [
        {
          "output_type": "display_data",
          "data": {
            "text/plain": [
              "<PIL.Image.Image image mode=RGB size=48x48 at 0x7FA6CC1219A0>"
            ],
            "image/png": "[encoded data removed]"
          },
          "metadata": {}
        }
      ]
    },
    {
      "cell_type": "code",
      "source": [
        "cv2_imshow(images[40])"
      ],
      "metadata": {
        "id": "Gr0Q22E7SKSS",
        "colab": {
          "base_uri": "https://localhost:8080/",
          "height": 65
        },
        "outputId": "9615691a-db18-4324-8899-42dded89c53d"
      },
      "execution_count": null,
      "outputs": [
        {
          "output_type": "display_data",
          "data": {
            "text/plain": [
              "<PIL.Image.Image image mode=RGB size=48x48 at 0x7FA6CC121FD0>"
            ],
            "image/png": "[encoded data removed]"
          },
          "metadata": {}
        }
      ]
    },
    {
      "cell_type": "code",
      "source": [
        "cv2_imshow(images[82])"
      ],
      "metadata": {
        "id": "mKGuzL2uSKUf",
        "colab": {
          "base_uri": "https://localhost:8080/",
          "height": 65
        },
        "outputId": "53d9f937-408f-43ae-c8ea-8504e6a4fd12"
      },
      "execution_count": null,
      "outputs": [
        {
          "output_type": "display_data",
          "data": {
            "text/plain": [
              "<PIL.Image.Image image mode=RGB size=48x48 at 0x7FA69A5BC4C0>"
            ],
            "image/png": "[encoded data removed]"
          },
          "metadata": {}
        }
      ]
    },
    {
      "cell_type": "code",
      "source": [
        "cv2_imshow(images[200])"
      ],
      "metadata": {
        "id": "n5cPrE4xSKWq",
        "colab": {
          "base_uri": "https://localhost:8080/",
          "height": 65
        },
        "outputId": "44d73030-70d4-455f-f8d5-44678ce7cf34"
      },
      "execution_count": null,
      "outputs": [
        {
          "output_type": "display_data",
          "data": {
            "text/plain": [
              "<PIL.Image.Image image mode=RGB size=48x48 at 0x7FA6CC121490>"
            ],
            "image/png": "[encoded data removed]"
          },
          "metadata": {}
        }
      ]
    },
    {
      "cell_type": "code",
      "source": [
        "\n",
        "cv2_imshow(images[300])"
      ],
      "metadata": {
        "id": "iXzOyNapSKY7",
        "colab": {
          "base_uri": "https://localhost:8080/",
          "height": 65
        },
        "outputId": "daa4ff08-c18c-4c30-a658-69cf67cd734e"
      },
      "execution_count": null,
      "outputs": [
        {
          "output_type": "display_data",
          "data": {
            "text/plain": [
              "<PIL.Image.Image image mode=RGB size=48x48 at 0x7FA69A5BC970>"
            ],
            "image/png": "[encoded data removed]"
          },
          "metadata": {}
        }
      ]
    },
    {
      "cell_type": "code",
      "source": [
        "\n",
        "import tensorflow as tf\n",
        "from sklearn.model_selection import train_test_split"
      ],
      "metadata": {
        "id": "ShHoJ-AmSKbP"
      },
      "execution_count": null,
      "outputs": []
    },
    {
      "cell_type": "code",
      "source": [
        "import numpy as np\n",
        "images_f=np.array(images)\n",
        "labels_f=np.array(labels)\n",
        "\n",
        "images_f_2=images_f/255"
      ],
      "metadata": {
        "id": "C8B17tlNSKdo"
      },
      "execution_count": null,
      "outputs": []
    },
    {
      "cell_type": "code",
      "source": [
        "\n",
        "cv2_imshow(images[300])"
      ],
      "metadata": {
        "id": "Z9MDWUr2SKg-",
        "colab": {
          "base_uri": "https://localhost:8080/",
          "height": 65
        },
        "outputId": "567392cb-6df0-4922-e466-938164c89800"
      },
      "execution_count": null,
      "outputs": [
        {
          "output_type": "display_data",
          "data": {
            "text/plain": [
              "<PIL.Image.Image image mode=RGB size=48x48 at 0x7FA6373480A0>"
            ],
            "image/png": "[encoded data removed]"
          },
          "metadata": {}
        }
      ]
    },
    {
      "cell_type": "code",
      "source": [
        "\n",
        "images_f_2.shape"
      ],
      "metadata": {
        "id": "I5g6uqZrPQrf",
        "colab": {
          "base_uri": "https://localhost:8080/"
        },
        "outputId": "f9b90b19-c3d8-499e-b04e-dfb8c0c85bd8"
      },
      "execution_count": null,
      "outputs": [
        {
          "output_type": "execute_result",
          "data": {
            "text/plain": [
              "(981, 48, 48, 3)"
            ]
          },
          "metadata": {},
          "execution_count": 16
        }
      ]
    },
    {
      "cell_type": "code",
      "source": [
        "\n",
        "num_of_classes=7\n",
        "labels_encoded=tf.keras.utils.to_categorical(labels_f,num_classes=num_of_classes)\n",
        "\n"
      ],
      "metadata": {
        "id": "lcbcru_gSiW_"
      },
      "execution_count": null,
      "outputs": []
    },
    {
      "cell_type": "code",
      "source": [
        "X_train, X_test, Y_train, Y_test= train_test_split(images_f_2, labels_encoded,test_size=0.25)\n"
      ],
      "metadata": {
        "id": "B81oTg21SiZg"
      },
      "execution_count": null,
      "outputs": []
    },
    {
      "cell_type": "code",
      "source": [
        "\n",
        "from tensorflow.keras.layers import Dropout\n",
        "from tensorflow.keras.layers import Flatten,BatchNormalization\n",
        "from tensorflow.keras.layers import Dense, MaxPooling2D,Conv2D\n",
        "from tensorflow.keras.layers import Input,Activation,Add\n",
        "from tensorflow.keras.models import Model\n",
        "from tensorflow.keras.regularizers import l2\n",
        "from tensorflow.keras.optimizers import Adam\n",
        "\n",
        "def Convolution(input_tensor,filters):\n",
        "    \n",
        "    x = Conv2D(filters=filters,kernel_size=(3, 3),padding = 'same',strides=(1, 1),kernel_regularizer=l2(0.001))(input_tensor)\n",
        "    x = Dropout(0.1)(x)\n",
        "    x= Activation('relu')(x)\n",
        "\n",
        "    return x\n",
        "def model(input_shape):\n",
        "  inputs = Input((input_shape))\n",
        "  \n",
        "  conv_1= Convolution(inputs,32)\n",
        "  maxp_1 = MaxPooling2D(pool_size = (2,2)) (conv_1)\n",
        "  conv_2 = Convolution(maxp_1,64)\n",
        "  maxp_2 = MaxPooling2D(pool_size = (2, 2)) (conv_2)\n",
        "  conv_3 = Convolution(maxp_2,128)\n",
        "  maxp_3 = MaxPooling2D(pool_size = (2, 2)) (conv_3)\n",
        "  conv_4 = Convolution(maxp_3,256)\n",
        "  maxp_4 = MaxPooling2D(pool_size = (2, 2)) (conv_4)\n",
        "  flatten= Flatten() (maxp_4)\n",
        "  dense_1= Dense(128,activation='relu')(flatten)\n",
        "  drop_1=Dropout(0.2)(dense_1)\n",
        "  output= Dense(7,activation=\"sigmoid\")(drop_1)\n",
        "\n",
        "  model = Model(inputs=[inputs], outputs=[output])\n",
        "\n",
        "  model.compile(loss=\"categorical_crossentropy\", optimizer=\"Adam\",\n",
        "\tmetrics=[\"accuracy\"])\n",
        "  return model"
      ],
      "metadata": {
        "id": "ZqJJYlwtSicD"
      },
      "execution_count": null,
      "outputs": []
    },
    {
      "cell_type": "code",
      "source": [
        "\n",
        "Model=model(input_shape = (48,48,3))\n",
        "     "
      ],
      "metadata": {
        "id": "bc11ziSjSieR"
      },
      "execution_count": null,
      "outputs": []
    },
    {
      "cell_type": "code",
      "source": [
        "\n",
        "Model.summary()"
      ],
      "metadata": {
        "id": "ZNvVZ3CCSigw",
        "colab": {
          "base_uri": "https://localhost:8080/"
        },
        "outputId": "9874418c-1741-4734-8321-66333810805f"
      },
      "execution_count": null,
      "outputs": [
        {
          "output_type": "stream",
          "name": "stdout",
          "text": [
            "Model: \"model\"\n",
            "_________________________________________________________________\n",
            " Layer (type)                Output Shape              Param #   \n",
            "=================================================================\n",
            " input_1 (InputLayer)        [(None, 48, 48, 3)]       0         \n",
            "                                                                 \n",
            " conv2d (Conv2D)             (None, 48, 48, 32)        896       \n",
            "                                                                 \n",
            " dropout (Dropout)           (None, 48, 48, 32)        0         \n",
            "                                                                 \n",
            " activation (Activation)     (None, 48, 48, 32)        0         \n",
            "                                                                 \n",
            " max_pooling2d (MaxPooling2D  (None, 24, 24, 32)       0         \n",
            " )                                                               \n",
            "                                                                 \n",
            " conv2d_1 (Conv2D)           (None, 24, 24, 64)        18496     \n",
            "                                                                 \n",
            " dropout_1 (Dropout)         (None, 24, 24, 64)        0         \n",
            "                                                                 \n",
            " activation_1 (Activation)   (None, 24, 24, 64)        0         \n",
            "                                                                 \n",
            " max_pooling2d_1 (MaxPooling  (None, 12, 12, 64)       0         \n",
            " 2D)                                                             \n",
            "                                                                 \n",
            " conv2d_2 (Conv2D)           (None, 12, 12, 128)       73856     \n",
            "                                                                 \n",
            " dropout_2 (Dropout)         (None, 12, 12, 128)       0         \n",
            "                                                                 \n",
            " activation_2 (Activation)   (None, 12, 12, 128)       0         \n",
            "                                                                 \n",
            " max_pooling2d_2 (MaxPooling  (None, 6, 6, 128)        0         \n",
            " 2D)                                                             \n",
            "                                                                 \n",
            " conv2d_3 (Conv2D)           (None, 6, 6, 256)         295168    \n",
            "                                                                 \n",
            " dropout_3 (Dropout)         (None, 6, 6, 256)         0         \n",
            "                                                                 \n",
            " activation_3 (Activation)   (None, 6, 6, 256)         0         \n",
            "                                                                 \n",
            " max_pooling2d_3 (MaxPooling  (None, 3, 3, 256)        0         \n",
            " 2D)                                                             \n",
            "                                                                 \n",
            " flatten (Flatten)           (None, 2304)              0         \n",
            "                                                                 \n",
            " dense (Dense)               (None, 128)               295040    \n",
            "                                                                 \n",
            " dropout_4 (Dropout)         (None, 128)               0         \n",
            "                                                                 \n",
            " dense_1 (Dense)             (None, 7)                 903       \n",
            "                                                                 \n",
            "=================================================================\n",
            "Total params: 684,359\n",
            "Trainable params: 684,359\n",
            "Non-trainable params: 0\n",
            "_________________________________________________________________\n"
          ]
        }
      ]
    },
    {
      "cell_type": "code",
      "source": [
        "#TRAINING"
      ],
      "metadata": {
        "id": "SR6MTSYwSiiz"
      },
      "execution_count": null,
      "outputs": []
    },
    {
      "cell_type": "code",
      "source": [
        "\n",
        "from tensorflow.keras.callbacks import ModelCheckpoint"
      ],
      "metadata": {
        "id": "i3pq1goQSimJ"
      },
      "execution_count": null,
      "outputs": []
    },
    {
      "cell_type": "code",
      "source": [
        "\n",
        "fle_s='Emotion_detection.h5'\n",
        "checkpointer = ModelCheckpoint(fle_s, monitor='loss',verbose=1,save_best_only=True,save_weights_only=False, mode='auto',save_freq='epoch')\n",
        "callback_list=[checkpointer]"
      ],
      "metadata": {
        "id": "g8QVCTG8Siok"
      },
      "execution_count": null,
      "outputs": []
    },
    {
      "cell_type": "code",
      "source": [
        "History=Model.fit(X_train,Y_train,batch_size=32,validation_data=(X_test,Y_test),epochs=10,callbacks=[callback_list])"
      ],
      "metadata": {
        "id": "J2uU86RlSisD",
        "colab": {
          "base_uri": "https://localhost:8080/"
        },
        "outputId": "b0138964-b659-4e0b-9694-d0c01df3a8dd"
      },
      "execution_count": null,
      "outputs": [
        {
          "output_type": "stream",
          "name": "stdout",
          "text": [
            "Epoch 1/10\n",
            "23/23 [==============================] - ETA: 0s - loss: 2.1060 - accuracy: 0.2109\n",
            "Epoch 1: loss improved from inf to 2.10595, saving model to Emotion_detection.h5\n",
            "23/23 [==============================] - 9s 319ms/step - loss: 2.1060 - accuracy: 0.2109 - val_loss: 2.0396 - val_accuracy: 0.2520\n",
            "Epoch 2/10\n",
            "23/23 [==============================] - ETA: 0s - loss: 1.9464 - accuracy: 0.2721\n",
            "Epoch 2: loss improved from 2.10595 to 1.94635, saving model to Emotion_detection.h5\n",
            "23/23 [==============================] - 9s 372ms/step - loss: 1.9464 - accuracy: 0.2721 - val_loss: 1.9334 - val_accuracy: 0.3171\n",
            "Epoch 3/10\n",
            "23/23 [==============================] - ETA: 0s - loss: 1.7385 - accuracy: 0.3796\n",
            "Epoch 3: loss improved from 1.94635 to 1.73850, saving model to Emotion_detection.h5\n",
            "23/23 [==============================] - 8s 367ms/step - loss: 1.7385 - accuracy: 0.3796 - val_loss: 1.6063 - val_accuracy: 0.4106\n",
            "Epoch 4/10\n",
            "23/23 [==============================] - ETA: 0s - loss: 1.3205 - accuracy: 0.5347\n",
            "Epoch 4: loss improved from 1.73850 to 1.32052, saving model to Emotion_detection.h5\n",
            "23/23 [==============================] - 7s 301ms/step - loss: 1.3205 - accuracy: 0.5347 - val_loss: 1.2559 - val_accuracy: 0.5610\n",
            "Epoch 5/10\n",
            "23/23 [==============================] - ETA: 0s - loss: 1.1125 - accuracy: 0.6014\n",
            "Epoch 5: loss improved from 1.32052 to 1.11245, saving model to Emotion_detection.h5\n",
            "23/23 [==============================] - 8s 369ms/step - loss: 1.1125 - accuracy: 0.6014 - val_loss: 1.0802 - val_accuracy: 0.6951\n",
            "Epoch 6/10\n",
            "23/23 [==============================] - ETA: 0s - loss: 0.9485 - accuracy: 0.6694\n",
            "Epoch 6: loss improved from 1.11245 to 0.94851, saving model to Emotion_detection.h5\n",
            "23/23 [==============================] - 6s 281ms/step - loss: 0.9485 - accuracy: 0.6694 - val_loss: 0.9248 - val_accuracy: 0.7154\n",
            "Epoch 7/10\n",
            "23/23 [==============================] - ETA: 0s - loss: 0.7796 - accuracy: 0.7361\n",
            "Epoch 7: loss improved from 0.94851 to 0.77965, saving model to Emotion_detection.h5\n",
            "23/23 [==============================] - 8s 369ms/step - loss: 0.7796 - accuracy: 0.7361 - val_loss: 0.8008 - val_accuracy: 0.7520\n",
            "Epoch 8/10\n",
            "23/23 [==============================] - ETA: 0s - loss: 0.6743 - accuracy: 0.7905\n",
            "Epoch 8: loss improved from 0.77965 to 0.67434, saving model to Emotion_detection.h5\n",
            "23/23 [==============================] - 6s 281ms/step - loss: 0.6743 - accuracy: 0.7905 - val_loss: 0.7266 - val_accuracy: 0.8415\n",
            "Epoch 9/10\n",
            "23/23 [==============================] - ETA: 0s - loss: 0.5605 - accuracy: 0.8218\n",
            "Epoch 9: loss improved from 0.67434 to 0.56050, saving model to Emotion_detection.h5\n",
            "23/23 [==============================] - 8s 371ms/step - loss: 0.5605 - accuracy: 0.8218 - val_loss: 0.6643 - val_accuracy: 0.8537\n",
            "Epoch 10/10\n",
            "23/23 [==============================] - ETA: 0s - loss: 0.5036 - accuracy: 0.8639\n",
            "Epoch 10: loss improved from 0.56050 to 0.50361, saving model to Emotion_detection.h5\n",
            "23/23 [==============================] - 6s 281ms/step - loss: 0.5036 - accuracy: 0.8639 - val_loss: 0.5211 - val_accuracy: 0.8902\n"
          ]
        }
      ]
    },
    {
      "cell_type": "code",
      "source": [
        "\n",
        "score = Model.evaluate(X_train, Y_train)"
      ],
      "metadata": {
        "id": "zWXBG_U4TEf9",
        "colab": {
          "base_uri": "https://localhost:8080/"
        },
        "outputId": "3c00b743-fab1-4ca0-8cd7-8f048c9a1374"
      },
      "execution_count": null,
      "outputs": [
        {
          "output_type": "stream",
          "name": "stdout",
          "text": [
            "23/23 [==============================] - 1s 54ms/step - loss: 0.3895 - accuracy: 0.9401\n"
          ]
        }
      ]
    },
    {
      "cell_type": "code",
      "source": [
        "\n",
        "score = Model.evaluate(X_test, Y_test)"
      ],
      "metadata": {
        "id": "0QmBphWoTEiS",
        "colab": {
          "base_uri": "https://localhost:8080/"
        },
        "outputId": "485aef4f-0c72-4973-cc31-43561e8da79f"
      },
      "execution_count": null,
      "outputs": [
        {
          "output_type": "stream",
          "name": "stdout",
          "text": [
            "8/8 [==============================] - 0s 54ms/step - loss: 0.5211 - accuracy: 0.8902\n"
          ]
        }
      ]
    },
    {
      "cell_type": "code",
      "source": [
        "\n",
        "Pred=Model.predict(X_test)"
      ],
      "metadata": {
        "id": "5xm9FXMwTEky",
        "colab": {
          "base_uri": "https://localhost:8080/"
        },
        "outputId": "5f8a7284-d2e8-4df5-8d31-1606150024ce"
      },
      "execution_count": null,
      "outputs": [
        {
          "output_type": "stream",
          "name": "stdout",
          "text": [
            "8/8 [==============================] - 1s 90ms/step\n"
          ]
        }
      ]
    },
    {
      "cell_type": "code",
      "source": [
        "\n",
        "Pred"
      ],
      "metadata": {
        "id": "C65fwz3gTEnO",
        "colab": {
          "base_uri": "https://localhost:8080/"
        },
        "outputId": "27d2c362-37fc-470f-8963-d072d01e8320"
      },
      "execution_count": null,
      "outputs": [
        {
          "output_type": "execute_result",
          "data": {
            "text/plain": [
              "array([[0.35295638, 0.5387851 , 0.18175118, ..., 0.29481164, 0.82331103,\n",
              "        0.57555485],\n",
              "       [0.8652373 , 0.2974515 , 0.99996305, ..., 0.43908945, 0.48788768,\n",
              "        0.10828071],\n",
              "       [0.9024637 , 0.75154334, 0.96426594, ..., 0.5335061 , 0.34980252,\n",
              "        0.26796004],\n",
              "       ...,\n",
              "       [0.9759679 , 0.94522077, 0.30128783, ..., 0.74499595, 0.3601617 ,\n",
              "        0.7142454 ],\n",
              "       [0.7590165 , 0.19537333, 0.29800138, ..., 0.99963343, 0.6890043 ,\n",
              "        0.84036016],\n",
              "       [0.9875089 , 0.2946981 , 0.7660017 , ..., 0.99999696, 0.47217438,\n",
              "        0.6748346 ]], dtype=float32)"
            ]
          },
          "metadata": {},
          "execution_count": 29
        }
      ]
    },
    {
      "cell_type": "code",
      "source": [
        "\n",
        "Y_test"
      ],
      "metadata": {
        "id": "gcVWwfe5TEpk",
        "colab": {
          "base_uri": "https://localhost:8080/"
        },
        "outputId": "9b7c83a9-b011-4559-d00c-096f23f8ee34"
      },
      "execution_count": null,
      "outputs": [
        {
          "output_type": "execute_result",
          "data": {
            "text/plain": [
              "array([[0., 0., 0., ..., 0., 1., 0.],\n",
              "       [0., 0., 1., ..., 0., 0., 0.],\n",
              "       [0., 0., 1., ..., 0., 0., 0.],\n",
              "       ...,\n",
              "       [0., 1., 0., ..., 0., 0., 0.],\n",
              "       [0., 0., 0., ..., 1., 0., 0.],\n",
              "       [0., 0., 0., ..., 1., 0., 0.]], dtype=float32)"
            ]
          },
          "metadata": {},
          "execution_count": 30
        }
      ]
    },
    {
      "cell_type": "code",
      "source": [
        "\n",
        "len(Pred)"
      ],
      "metadata": {
        "id": "t0Hd3-fqTErm",
        "colab": {
          "base_uri": "https://localhost:8080/"
        },
        "outputId": "8f5a5c8d-f6ce-4aa0-dd8f-d1bf98d6058f"
      },
      "execution_count": null,
      "outputs": [
        {
          "output_type": "execute_result",
          "data": {
            "text/plain": [
              "246"
            ]
          },
          "metadata": {},
          "execution_count": 31
        }
      ]
    },
    {
      "cell_type": "code",
      "source": [
        "i=0 \n",
        "Y_test_l=[] \n",
        "Pred_l=[] \n",
        "while(i<len(Pred)):   \n",
        "  Y_test_l.append(int(np.argmax(Y_test[i])))     \n",
        "  Pred_l.append(int(np.argmax(Pred[i])))   \n",
        "  i+=1\n"
      ],
      "metadata": {
        "id": "qp18SAl-aY5W"
      },
      "execution_count": null,
      "outputs": []
    },
    {
      "cell_type": "code",
      "source": [
        "def test_image(ind, images_f, images_f_2, Model): \n",
        "  cv2_imshow(images_f[ind])\n",
        "  image_test=images_f_2[ind]\n",
        "  print(\"Label actual: \" + Exp[labels[ind]] ) \n",
        "  pred_1=Model.predict(np.array([image_test]))\n",
        "\n",
        "#print(pred_1)\n",
        "  pred_class=Exp[int(np.argmax(pred_1))] \n",
        "  print(\"Predicted Label: \"+ pred_class)"
      ],
      "metadata": {
        "id": "9JhlxmULaY79"
      },
      "execution_count": null,
      "outputs": []
    },
    {
      "cell_type": "code",
      "source": [
        "test_image(147,images_f,images_f_2,Model)"
      ],
      "metadata": {
        "id": "cOz2MFNhTWCG",
        "colab": {
          "base_uri": "https://localhost:8080/",
          "height": 117
        },
        "outputId": "883ea18f-c717-419a-c672-7a92b579984c"
      },
      "execution_count": null,
      "outputs": [
        {
          "output_type": "display_data",
          "data": {
            "text/plain": [
              "<PIL.Image.Image image mode=RGB size=48x48 at 0x7FA62BE9C6D0>"
            ],
            "image/png": "[encoded data removed]"
          },
          "metadata": {}
        },
        {
          "output_type": "stream",
          "name": "stdout",
          "text": [
            "Label actual: anger\n",
            "1/1 [==============================] - 0s 54ms/step\n",
            "Predicted Label: anger\n"
          ]
        }
      ]
    },
    {
      "cell_type": "code",
      "source": [
        "test_image(70,images_f,images_f_2,Model)"
      ],
      "metadata": {
        "colab": {
          "base_uri": "https://localhost:8080/",
          "height": 117
        },
        "id": "dLZRwkO4keR3",
        "outputId": "c264e3b9-c0f4-487c-f36b-9ae2ec96893c"
      },
      "execution_count": null,
      "outputs": [
        {
          "output_type": "display_data",
          "data": {
            "text/plain": [
              "<PIL.Image.Image image mode=RGB size=48x48 at 0x7FA62BE9B550>"
            ],
            "image/png": "[encoded data removed]"
          },
          "metadata": {}
        },
        {
          "output_type": "stream",
          "name": "stdout",
          "text": [
            "Label actual: sadness\n",
            "1/1 [==============================] - 0s 37ms/step\n",
            "Predicted Label: sadness\n"
          ]
        }
      ]
    },
    {
      "cell_type": "code",
      "source": [
        "test_image(369,images_f,images_f_2,Model)"
      ],
      "metadata": {
        "id": "FGK8npavTWEg",
        "colab": {
          "base_uri": "https://localhost:8080/",
          "height": 117
        },
        "outputId": "f8eb8057-1975-4433-d5c7-d9274b1e24ce"
      },
      "execution_count": null,
      "outputs": [
        {
          "output_type": "display_data",
          "data": {
            "text/plain": [
              "<PIL.Image.Image image mode=RGB size=48x48 at 0x7FA62BED0B20>"
            ],
            "image/png": "[encoded data removed]"
          },
          "metadata": {}
        },
        {
          "output_type": "stream",
          "name": "stdout",
          "text": [
            "Label actual: surprise\n",
            "1/1 [==============================] - 0s 34ms/step\n",
            "Predicted Label: surprise\n"
          ]
        }
      ]
    },
    {
      "cell_type": "code",
      "source": [
        "test_image(502,images_f,images_f_2,Model)"
      ],
      "metadata": {
        "id": "FlZ4DP92TWG4",
        "colab": {
          "base_uri": "https://localhost:8080/",
          "height": 117
        },
        "outputId": "247958e1-af8a-456d-8503-7a306547b702"
      },
      "execution_count": null,
      "outputs": [
        {
          "output_type": "display_data",
          "data": {
            "text/plain": [
              "<PIL.Image.Image image mode=RGB size=48x48 at 0x7FA62BE71430>"
            ],
            "image/png": "[encoded data removed]"
          },
          "metadata": {}
        },
        {
          "output_type": "stream",
          "name": "stdout",
          "text": [
            "Label actual: fear\n",
            "1/1 [==============================] - 0s 38ms/step\n",
            "Predicted Label: anger\n"
          ]
        }
      ]
    },
    {
      "cell_type": "code",
      "source": [
        "test_image(122,images_f,images_f_2,Model)"
      ],
      "metadata": {
        "colab": {
          "base_uri": "https://localhost:8080/",
          "height": 117
        },
        "id": "Yw_1ZHXhk9b2",
        "outputId": "de4dfa3f-e127-4cb0-aeb4-a9068785d717"
      },
      "execution_count": null,
      "outputs": [
        {
          "output_type": "display_data",
          "data": {
            "text/plain": [
              "<PIL.Image.Image image mode=RGB size=48x48 at 0x7FA62A5788B0>"
            ],
            "image/png": "[encoded data removed]"
          },
          "metadata": {}
        },
        {
          "output_type": "stream",
          "name": "stdout",
          "text": [
            "Label actual: anger\n",
            "1/1 [==============================] - 0s 44ms/step\n",
            "Predicted Label: anger\n"
          ]
        }
      ]
    },
    {
      "cell_type": "code",
      "source": [
        "test_image(36,images_f,images_f_2,Model)"
      ],
      "metadata": {
        "colab": {
          "base_uri": "https://localhost:8080/",
          "height": 117
        },
        "id": "p3-mseVqlCjE",
        "outputId": "989a1ff0-2855-4ee3-f422-15fc9a5937f5"
      },
      "execution_count": null,
      "outputs": [
        {
          "output_type": "display_data",
          "data": {
            "text/plain": [
              "<PIL.Image.Image image mode=RGB size=48x48 at 0x7FA62BE57CA0>"
            ],
            "image/png": "[encoded data removed]"
          },
          "metadata": {}
        },
        {
          "output_type": "stream",
          "name": "stdout",
          "text": [
            "Label actual: sadness\n",
            "1/1 [==============================] - 0s 41ms/step\n",
            "Predicted Label: sadness\n"
          ]
        }
      ]
    },
    {
      "cell_type": "code",
      "source": [
        "test_image(800,images_f,images_f_2,Model)"
      ],
      "metadata": {
        "id": "jdAQgRHKTWKR",
        "colab": {
          "base_uri": "https://localhost:8080/",
          "height": 117
        },
        "outputId": "2909f276-a7b4-49f2-d326-59cc6ec86e37"
      },
      "execution_count": null,
      "outputs": [
        {
          "output_type": "display_data",
          "data": {
            "text/plain": [
              "<PIL.Image.Image image mode=RGB size=48x48 at 0x7FA62BE9BA00>"
            ],
            "image/png": "[encoded data removed]"
          },
          "metadata": {}
        },
        {
          "output_type": "stream",
          "name": "stdout",
          "text": [
            "Label actual: happy\n",
            "1/1 [==============================] - 0s 38ms/step\n",
            "Predicted Label: happy\n"
          ]
        }
      ]
    },
    {
      "cell_type": "code",
      "source": [
        "import matplotlib.pyplot as plt"
      ],
      "metadata": {
        "id": "sonxUBO0TEwp"
      },
      "execution_count": null,
      "outputs": []
    },
    {
      "cell_type": "code",
      "source": [
        "\n",
        "plt.plot(History.history['loss'])\n",
        "plt.plot(History.history['val_loss'])\n",
        "plt.title('Model loss')\n",
        "plt.ylabel('Loss')\n",
        "plt.xlabel('Epoch')\n",
        "plt.legend(['Train', 'Validation'], loc='upper left')\n",
        "plt.subplots_adjust(top=1.00, bottom=0.0, left=0.0, right=0.95, hspace=0.25,\n",
        "                        wspace=0.35)"
      ],
      "metadata": {
        "id": "ca1FK4yOTuK8",
        "colab": {
          "base_uri": "https://localhost:8080/",
          "height": 582
        },
        "outputId": "5b75d8f0-f72a-4abd-f8ea-2c25576cf2eb"
      },
      "execution_count": null,
      "outputs": [
        {
          "output_type": "display_data",
          "data": {
            "text/plain": [
              "<Figure size 640x480 with 1 Axes>"
            ],
            "image/png": "[encoded data removed]"
          },
          "metadata": {}
        }
      ]
    },
    {
      "cell_type": "code",
      "source": [
        "\n",
        "plt.plot(History.history['accuracy'])\n",
        "plt.plot(History.history['val_accuracy'])\n",
        "plt.title('Model accuracy')\n",
        "plt.ylabel('Accuracy')\n",
        "plt.xlabel('Epoch')\n",
        "plt.legend(['Train', 'Validation'], loc='upper left')\n",
        "plt.subplots_adjust(top=1.00, bottom=0.0, left=0.0, right=0.95, hspace=0.25,\n",
        "                        wspace=0.35)"
      ],
      "metadata": {
        "id": "PR_KLwc7TuOR",
        "colab": {
          "base_uri": "https://localhost:8080/",
          "height": 582
        },
        "outputId": "81eff98e-6424-4e55-ada8-cf0555bcf253"
      },
      "execution_count": null,
      "outputs": [
        {
          "output_type": "display_data",
          "data": {
            "text/plain": [
              "<Figure size 640x480 with 1 Axes>"
            ],
            "image/png": "[encoded data removed]"
          },
          "metadata": {}
        }
      ]
    },
    {
      "cell_type": "code",
      "source": [
        "\n",
        "from sklearn.metrics import confusion_matrix \n",
        "\n",
        "from sklearn.metrics import classification_report "
      ],
      "metadata": {
        "id": "t4l__ra0TuRn"
      },
      "execution_count": null,
      "outputs": []
    },
    {
      "cell_type": "code",
      "source": [
        "i=0 \n",
        "Y_test_l=[] \n",
        "Pred_l=[] \n",
        "while(i<len(Pred)):   \n",
        "  Y_test_l.append(int(np.argmax(Y_test[i])))     \n",
        "  Pred_l.append(int(np.argmax(Pred[i])))   \n",
        "  i+=1\n",
        "report=classification_report(Y_test_l, Pred_l)"
      ],
      "metadata": {
        "id": "Bogu200DTuW0"
      },
      "execution_count": null,
      "outputs": []
    },
    {
      "cell_type": "code",
      "source": [
        "\n",
        "\n",
        "report=classification_report(Y_test_l, Pred_l)"
      ],
      "metadata": {
        "id": "O9Md_GyeTuZW"
      },
      "execution_count": null,
      "outputs": []
    },
    {
      "cell_type": "code",
      "source": [
        "\n",
        "print(report)"
      ],
      "metadata": {
        "id": "BgfG641DTubo",
        "colab": {
          "base_uri": "https://localhost:8080/"
        },
        "outputId": "cb5d3c2b-db04-4d44-ee7e-2622a16ba93d"
      },
      "execution_count": null,
      "outputs": [
        {
          "output_type": "stream",
          "name": "stdout",
          "text": [
            "              precision    recall  f1-score   support\n",
            "\n",
            "           0       0.64      0.86      0.73        21\n",
            "           1       1.00      0.73      0.85        15\n",
            "           2       0.95      1.00      0.97        54\n",
            "           3       0.87      0.87      0.87        39\n",
            "           4       0.94      0.98      0.96        62\n",
            "           5       1.00      0.90      0.95        30\n",
            "           6       0.74      0.56      0.64        25\n",
            "\n",
            "    accuracy                           0.89       246\n",
            "   macro avg       0.88      0.84      0.85       246\n",
            "weighted avg       0.90      0.89      0.89       246\n",
            "\n"
          ]
        }
      ]
    },
    {
      "cell_type": "code",
      "source": [
        "results = confusion_matrix(Y_test_l, Pred_l)"
      ],
      "metadata": {
        "id": "n4WdeQZQTud3"
      },
      "execution_count": null,
      "outputs": []
    },
    {
      "cell_type": "code",
      "source": [
        "\n",
        "import seaborn as sns\n",
        "\n",
        "sns.heatmap(results, annot=True)"
      ],
      "metadata": {
        "id": "Hb2b0-4SUOIC",
        "colab": {
          "base_uri": "https://localhost:8080/",
          "height": 447
        },
        "outputId": "f9c0291c-9f6f-4140-ca92-2db086e956a8"
      },
      "execution_count": null,
      "outputs": [
        {
          "output_type": "execute_result",
          "data": {
            "text/plain": [
              "<Axes: >"
            ]
          },
          "metadata": {},
          "execution_count": 49
        },
        {
          "output_type": "display_data",
          "data": {
            "text/plain": [
              "<Figure size 640x480 with 2 Axes>"
            ],
            "image/png": "[encoded data removed]"
          },
          "metadata": {}
        }
      ]
    }
  ]
}